{
  "nbformat": 4,
  "nbformat_minor": 0,
  "metadata": {
    "colab": {
      "provenance": [],
      "gpuType": "T4",
      "include_colab_link": true
    },
    "kernelspec": {
      "name": "python3",
      "display_name": "Python 3"
    },
    "language_info": {
      "name": "python"
    },
    "widgets": {
      "application/vnd.jupyter.widget-state+json": {
        "3734ae2ad52d418e83bb337fadc6ca07": {
          "model_module": "@jupyter-widgets/controls",
          "model_name": "VBoxModel",
          "model_module_version": "1.5.0",
          "state": {
            "_dom_classes": [],
            "_model_module": "@jupyter-widgets/controls",
            "_model_module_version": "1.5.0",
            "_model_name": "VBoxModel",
            "_view_count": null,
            "_view_module": "@jupyter-widgets/controls",
            "_view_module_version": "1.5.0",
            "_view_name": "VBoxView",
            "box_style": "",
            "children": [
              "IPY_MODEL_5aba6329db6b4389b453dd187b3cf244",
              "IPY_MODEL_f13e409f05e3410d972b0578c390496f"
            ],
            "layout": "IPY_MODEL_35d2c713fad44dcb8d86233ed595b56f"
          }
        },
        "5aba6329db6b4389b453dd187b3cf244": {
          "model_module": "@jupyter-widgets/controls",
          "model_name": "LabelModel",
          "model_module_version": "1.5.0",
          "state": {
            "_dom_classes": [],
            "_model_module": "@jupyter-widgets/controls",
            "_model_module_version": "1.5.0",
            "_model_name": "LabelModel",
            "_view_count": null,
            "_view_module": "@jupyter-widgets/controls",
            "_view_module_version": "1.5.0",
            "_view_name": "LabelView",
            "description": "",
            "description_tooltip": null,
            "layout": "IPY_MODEL_66f69c8f388542459fd87572d23db4af",
            "placeholder": "​",
            "style": "IPY_MODEL_7f388cde29b6409a845ae6a349ab9b39",
            "value": "Waiting for wandb.init()...\r"
          }
        },
        "f13e409f05e3410d972b0578c390496f": {
          "model_module": "@jupyter-widgets/controls",
          "model_name": "FloatProgressModel",
          "model_module_version": "1.5.0",
          "state": {
            "_dom_classes": [],
            "_model_module": "@jupyter-widgets/controls",
            "_model_module_version": "1.5.0",
            "_model_name": "FloatProgressModel",
            "_view_count": null,
            "_view_module": "@jupyter-widgets/controls",
            "_view_module_version": "1.5.0",
            "_view_name": "ProgressView",
            "bar_style": "",
            "description": "",
            "description_tooltip": null,
            "layout": "IPY_MODEL_6b0eb83f35ae489c9b3df6ea05848e34",
            "max": 1,
            "min": 0,
            "orientation": "horizontal",
            "style": "IPY_MODEL_f590ac5e6d8c4c6489f1da7e50431b14",
            "value": 0.989890667788888
          }
        },
        "35d2c713fad44dcb8d86233ed595b56f": {
          "model_module": "@jupyter-widgets/base",
          "model_name": "LayoutModel",
          "model_module_version": "1.2.0",
          "state": {
            "_model_module": "@jupyter-widgets/base",
            "_model_module_version": "1.2.0",
            "_model_name": "LayoutModel",
            "_view_count": null,
            "_view_module": "@jupyter-widgets/base",
            "_view_module_version": "1.2.0",
            "_view_name": "LayoutView",
            "align_content": null,
            "align_items": null,
            "align_self": null,
            "border": null,
            "bottom": null,
            "display": null,
            "flex": null,
            "flex_flow": null,
            "grid_area": null,
            "grid_auto_columns": null,
            "grid_auto_flow": null,
            "grid_auto_rows": null,
            "grid_column": null,
            "grid_gap": null,
            "grid_row": null,
            "grid_template_areas": null,
            "grid_template_columns": null,
            "grid_template_rows": null,
            "height": null,
            "justify_content": null,
            "justify_items": null,
            "left": null,
            "margin": null,
            "max_height": null,
            "max_width": null,
            "min_height": null,
            "min_width": null,
            "object_fit": null,
            "object_position": null,
            "order": null,
            "overflow": null,
            "overflow_x": null,
            "overflow_y": null,
            "padding": null,
            "right": null,
            "top": null,
            "visibility": null,
            "width": null
          }
        },
        "66f69c8f388542459fd87572d23db4af": {
          "model_module": "@jupyter-widgets/base",
          "model_name": "LayoutModel",
          "model_module_version": "1.2.0",
          "state": {
            "_model_module": "@jupyter-widgets/base",
            "_model_module_version": "1.2.0",
            "_model_name": "LayoutModel",
            "_view_count": null,
            "_view_module": "@jupyter-widgets/base",
            "_view_module_version": "1.2.0",
            "_view_name": "LayoutView",
            "align_content": null,
            "align_items": null,
            "align_self": null,
            "border": null,
            "bottom": null,
            "display": null,
            "flex": null,
            "flex_flow": null,
            "grid_area": null,
            "grid_auto_columns": null,
            "grid_auto_flow": null,
            "grid_auto_rows": null,
            "grid_column": null,
            "grid_gap": null,
            "grid_row": null,
            "grid_template_areas": null,
            "grid_template_columns": null,
            "grid_template_rows": null,
            "height": null,
            "justify_content": null,
            "justify_items": null,
            "left": null,
            "margin": null,
            "max_height": null,
            "max_width": null,
            "min_height": null,
            "min_width": null,
            "object_fit": null,
            "object_position": null,
            "order": null,
            "overflow": null,
            "overflow_x": null,
            "overflow_y": null,
            "padding": null,
            "right": null,
            "top": null,
            "visibility": null,
            "width": null
          }
        },
        "7f388cde29b6409a845ae6a349ab9b39": {
          "model_module": "@jupyter-widgets/controls",
          "model_name": "DescriptionStyleModel",
          "model_module_version": "1.5.0",
          "state": {
            "_model_module": "@jupyter-widgets/controls",
            "_model_module_version": "1.5.0",
            "_model_name": "DescriptionStyleModel",
            "_view_count": null,
            "_view_module": "@jupyter-widgets/base",
            "_view_module_version": "1.2.0",
            "_view_name": "StyleView",
            "description_width": ""
          }
        },
        "6b0eb83f35ae489c9b3df6ea05848e34": {
          "model_module": "@jupyter-widgets/base",
          "model_name": "LayoutModel",
          "model_module_version": "1.2.0",
          "state": {
            "_model_module": "@jupyter-widgets/base",
            "_model_module_version": "1.2.0",
            "_model_name": "LayoutModel",
            "_view_count": null,
            "_view_module": "@jupyter-widgets/base",
            "_view_module_version": "1.2.0",
            "_view_name": "LayoutView",
            "align_content": null,
            "align_items": null,
            "align_self": null,
            "border": null,
            "bottom": null,
            "display": null,
            "flex": null,
            "flex_flow": null,
            "grid_area": null,
            "grid_auto_columns": null,
            "grid_auto_flow": null,
            "grid_auto_rows": null,
            "grid_column": null,
            "grid_gap": null,
            "grid_row": null,
            "grid_template_areas": null,
            "grid_template_columns": null,
            "grid_template_rows": null,
            "height": null,
            "justify_content": null,
            "justify_items": null,
            "left": null,
            "margin": null,
            "max_height": null,
            "max_width": null,
            "min_height": null,
            "min_width": null,
            "object_fit": null,
            "object_position": null,
            "order": null,
            "overflow": null,
            "overflow_x": null,
            "overflow_y": null,
            "padding": null,
            "right": null,
            "top": null,
            "visibility": null,
            "width": null
          }
        },
        "f590ac5e6d8c4c6489f1da7e50431b14": {
          "model_module": "@jupyter-widgets/controls",
          "model_name": "ProgressStyleModel",
          "model_module_version": "1.5.0",
          "state": {
            "_model_module": "@jupyter-widgets/controls",
            "_model_module_version": "1.5.0",
            "_model_name": "ProgressStyleModel",
            "_view_count": null,
            "_view_module": "@jupyter-widgets/base",
            "_view_module_version": "1.2.0",
            "_view_name": "StyleView",
            "bar_color": null,
            "description_width": ""
          }
        },
        "e7704629734246c6b3a880b07bad19d5": {
          "model_module": "@jupyter-widgets/controls",
          "model_name": "HBoxModel",
          "model_module_version": "1.5.0",
          "state": {
            "_dom_classes": [],
            "_model_module": "@jupyter-widgets/controls",
            "_model_module_version": "1.5.0",
            "_model_name": "HBoxModel",
            "_view_count": null,
            "_view_module": "@jupyter-widgets/controls",
            "_view_module_version": "1.5.0",
            "_view_name": "HBoxView",
            "box_style": "",
            "children": [
              "IPY_MODEL_6a64df25f59e4c24a03689299f15557e",
              "IPY_MODEL_901beca586104d38a40633c227751e3b",
              "IPY_MODEL_ba5f4bc359774cc09e0b421d6463098d"
            ],
            "layout": "IPY_MODEL_4040115ec40440a5921a99faf09aae7f"
          }
        },
        "6a64df25f59e4c24a03689299f15557e": {
          "model_module": "@jupyter-widgets/controls",
          "model_name": "HTMLModel",
          "model_module_version": "1.5.0",
          "state": {
            "_dom_classes": [],
            "_model_module": "@jupyter-widgets/controls",
            "_model_module_version": "1.5.0",
            "_model_name": "HTMLModel",
            "_view_count": null,
            "_view_module": "@jupyter-widgets/controls",
            "_view_module_version": "1.5.0",
            "_view_name": "HTMLView",
            "description": "",
            "description_tooltip": null,
            "layout": "IPY_MODEL_3a0a418ec11c4373a2947c87fdc9fdeb",
            "placeholder": "​",
            "style": "IPY_MODEL_5470e6ef65c24700aa177eb0259cd491",
            "value": "Testing DataLoader 0: 100%"
          }
        },
        "901beca586104d38a40633c227751e3b": {
          "model_module": "@jupyter-widgets/controls",
          "model_name": "FloatProgressModel",
          "model_module_version": "1.5.0",
          "state": {
            "_dom_classes": [],
            "_model_module": "@jupyter-widgets/controls",
            "_model_module_version": "1.5.0",
            "_model_name": "FloatProgressModel",
            "_view_count": null,
            "_view_module": "@jupyter-widgets/controls",
            "_view_module_version": "1.5.0",
            "_view_name": "ProgressView",
            "bar_style": "success",
            "description": "",
            "description_tooltip": null,
            "layout": "IPY_MODEL_b06b0b07e53f46a8a368163e93e23cec",
            "max": 32,
            "min": 0,
            "orientation": "horizontal",
            "style": "IPY_MODEL_6e729b7511734826acc5e2ec7f4f8c1b",
            "value": 32
          }
        },
        "ba5f4bc359774cc09e0b421d6463098d": {
          "model_module": "@jupyter-widgets/controls",
          "model_name": "HTMLModel",
          "model_module_version": "1.5.0",
          "state": {
            "_dom_classes": [],
            "_model_module": "@jupyter-widgets/controls",
            "_model_module_version": "1.5.0",
            "_model_name": "HTMLModel",
            "_view_count": null,
            "_view_module": "@jupyter-widgets/controls",
            "_view_module_version": "1.5.0",
            "_view_name": "HTMLView",
            "description": "",
            "description_tooltip": null,
            "layout": "IPY_MODEL_2f66291c706c4827be36c659a790da08",
            "placeholder": "​",
            "style": "IPY_MODEL_e1581facc8cf48cda15ae03c26bf0bce",
            "value": " 32/32 [04:02&lt;00:00,  0.13it/s]"
          }
        },
        "4040115ec40440a5921a99faf09aae7f": {
          "model_module": "@jupyter-widgets/base",
          "model_name": "LayoutModel",
          "model_module_version": "1.2.0",
          "state": {
            "_model_module": "@jupyter-widgets/base",
            "_model_module_version": "1.2.0",
            "_model_name": "LayoutModel",
            "_view_count": null,
            "_view_module": "@jupyter-widgets/base",
            "_view_module_version": "1.2.0",
            "_view_name": "LayoutView",
            "align_content": null,
            "align_items": null,
            "align_self": null,
            "border": null,
            "bottom": null,
            "display": "inline-flex",
            "flex": null,
            "flex_flow": "row wrap",
            "grid_area": null,
            "grid_auto_columns": null,
            "grid_auto_flow": null,
            "grid_auto_rows": null,
            "grid_column": null,
            "grid_gap": null,
            "grid_row": null,
            "grid_template_areas": null,
            "grid_template_columns": null,
            "grid_template_rows": null,
            "height": null,
            "justify_content": null,
            "justify_items": null,
            "left": null,
            "margin": null,
            "max_height": null,
            "max_width": null,
            "min_height": null,
            "min_width": null,
            "object_fit": null,
            "object_position": null,
            "order": null,
            "overflow": null,
            "overflow_x": null,
            "overflow_y": null,
            "padding": null,
            "right": null,
            "top": null,
            "visibility": null,
            "width": "100%"
          }
        },
        "3a0a418ec11c4373a2947c87fdc9fdeb": {
          "model_module": "@jupyter-widgets/base",
          "model_name": "LayoutModel",
          "model_module_version": "1.2.0",
          "state": {
            "_model_module": "@jupyter-widgets/base",
            "_model_module_version": "1.2.0",
            "_model_name": "LayoutModel",
            "_view_count": null,
            "_view_module": "@jupyter-widgets/base",
            "_view_module_version": "1.2.0",
            "_view_name": "LayoutView",
            "align_content": null,
            "align_items": null,
            "align_self": null,
            "border": null,
            "bottom": null,
            "display": null,
            "flex": null,
            "flex_flow": null,
            "grid_area": null,
            "grid_auto_columns": null,
            "grid_auto_flow": null,
            "grid_auto_rows": null,
            "grid_column": null,
            "grid_gap": null,
            "grid_row": null,
            "grid_template_areas": null,
            "grid_template_columns": null,
            "grid_template_rows": null,
            "height": null,
            "justify_content": null,
            "justify_items": null,
            "left": null,
            "margin": null,
            "max_height": null,
            "max_width": null,
            "min_height": null,
            "min_width": null,
            "object_fit": null,
            "object_position": null,
            "order": null,
            "overflow": null,
            "overflow_x": null,
            "overflow_y": null,
            "padding": null,
            "right": null,
            "top": null,
            "visibility": null,
            "width": null
          }
        },
        "5470e6ef65c24700aa177eb0259cd491": {
          "model_module": "@jupyter-widgets/controls",
          "model_name": "DescriptionStyleModel",
          "model_module_version": "1.5.0",
          "state": {
            "_model_module": "@jupyter-widgets/controls",
            "_model_module_version": "1.5.0",
            "_model_name": "DescriptionStyleModel",
            "_view_count": null,
            "_view_module": "@jupyter-widgets/base",
            "_view_module_version": "1.2.0",
            "_view_name": "StyleView",
            "description_width": ""
          }
        },
        "b06b0b07e53f46a8a368163e93e23cec": {
          "model_module": "@jupyter-widgets/base",
          "model_name": "LayoutModel",
          "model_module_version": "1.2.0",
          "state": {
            "_model_module": "@jupyter-widgets/base",
            "_model_module_version": "1.2.0",
            "_model_name": "LayoutModel",
            "_view_count": null,
            "_view_module": "@jupyter-widgets/base",
            "_view_module_version": "1.2.0",
            "_view_name": "LayoutView",
            "align_content": null,
            "align_items": null,
            "align_self": null,
            "border": null,
            "bottom": null,
            "display": null,
            "flex": "2",
            "flex_flow": null,
            "grid_area": null,
            "grid_auto_columns": null,
            "grid_auto_flow": null,
            "grid_auto_rows": null,
            "grid_column": null,
            "grid_gap": null,
            "grid_row": null,
            "grid_template_areas": null,
            "grid_template_columns": null,
            "grid_template_rows": null,
            "height": null,
            "justify_content": null,
            "justify_items": null,
            "left": null,
            "margin": null,
            "max_height": null,
            "max_width": null,
            "min_height": null,
            "min_width": null,
            "object_fit": null,
            "object_position": null,
            "order": null,
            "overflow": null,
            "overflow_x": null,
            "overflow_y": null,
            "padding": null,
            "right": null,
            "top": null,
            "visibility": null,
            "width": null
          }
        },
        "6e729b7511734826acc5e2ec7f4f8c1b": {
          "model_module": "@jupyter-widgets/controls",
          "model_name": "ProgressStyleModel",
          "model_module_version": "1.5.0",
          "state": {
            "_model_module": "@jupyter-widgets/controls",
            "_model_module_version": "1.5.0",
            "_model_name": "ProgressStyleModel",
            "_view_count": null,
            "_view_module": "@jupyter-widgets/base",
            "_view_module_version": "1.2.0",
            "_view_name": "StyleView",
            "bar_color": null,
            "description_width": ""
          }
        },
        "2f66291c706c4827be36c659a790da08": {
          "model_module": "@jupyter-widgets/base",
          "model_name": "LayoutModel",
          "model_module_version": "1.2.0",
          "state": {
            "_model_module": "@jupyter-widgets/base",
            "_model_module_version": "1.2.0",
            "_model_name": "LayoutModel",
            "_view_count": null,
            "_view_module": "@jupyter-widgets/base",
            "_view_module_version": "1.2.0",
            "_view_name": "LayoutView",
            "align_content": null,
            "align_items": null,
            "align_self": null,
            "border": null,
            "bottom": null,
            "display": null,
            "flex": null,
            "flex_flow": null,
            "grid_area": null,
            "grid_auto_columns": null,
            "grid_auto_flow": null,
            "grid_auto_rows": null,
            "grid_column": null,
            "grid_gap": null,
            "grid_row": null,
            "grid_template_areas": null,
            "grid_template_columns": null,
            "grid_template_rows": null,
            "height": null,
            "justify_content": null,
            "justify_items": null,
            "left": null,
            "margin": null,
            "max_height": null,
            "max_width": null,
            "min_height": null,
            "min_width": null,
            "object_fit": null,
            "object_position": null,
            "order": null,
            "overflow": null,
            "overflow_x": null,
            "overflow_y": null,
            "padding": null,
            "right": null,
            "top": null,
            "visibility": null,
            "width": null
          }
        },
        "e1581facc8cf48cda15ae03c26bf0bce": {
          "model_module": "@jupyter-widgets/controls",
          "model_name": "DescriptionStyleModel",
          "model_module_version": "1.5.0",
          "state": {
            "_model_module": "@jupyter-widgets/controls",
            "_model_module_version": "1.5.0",
            "_model_name": "DescriptionStyleModel",
            "_view_count": null,
            "_view_module": "@jupyter-widgets/base",
            "_view_module_version": "1.2.0",
            "_view_name": "StyleView",
            "description_width": ""
          }
        }
      }
    },
    "accelerator": "GPU"
  },
  "cells": [
    {
      "cell_type": "markdown",
      "metadata": {
        "id": "view-in-github",
        "colab_type": "text"
      },
      "source": [
        "<a href=\"https://colab.research.google.com/github/sainijagjit/CS6910-A2/blob/main/Part%20A/Assignment_2_iNaturalist.ipynb\" target=\"_parent\"><img src=\"https://colab.research.google.com/assets/colab-badge.svg\" alt=\"Open In Colab\"/></a>"
      ]
    },
    {
      "cell_type": "code",
      "source": [
        "! pip install pytorch-lightning --quiet\n",
        "# install weights and biases\n",
        "# !pip uninstall wandb -y\n",
        "!pip install wandb --quiet\n",
        "# !pip install --upgrade wandb"
      ],
      "metadata": {
        "id": "cdt-S_s5Eycy",
        "colab": {
          "base_uri": "https://localhost:8080/"
        },
        "outputId": "f653e0a6-9d55-4e20-f893-47d15cb795d3"
      },
      "execution_count": 2,
      "outputs": [
        {
          "output_type": "stream",
          "name": "stdout",
          "text": [
            "\u001b[2K     \u001b[90m━━━━━━━━━━━━━━━━━━━━━━━━━━━━━━━━━━━━━━━━\u001b[0m \u001b[32m801.6/801.6 kB\u001b[0m \u001b[31m9.4 MB/s\u001b[0m eta \u001b[36m0:00:00\u001b[0m\n",
            "\u001b[2K     \u001b[90m━━━━━━━━━━━━━━━━━━━━━━━━━━━━━━━━━━━━━━━━\u001b[0m \u001b[32m841.5/841.5 kB\u001b[0m \u001b[31m36.2 MB/s\u001b[0m eta \u001b[36m0:00:00\u001b[0m\n",
            "\u001b[2K     \u001b[90m━━━━━━━━━━━━━━━━━━━━━━━━━━━━━━━━━━━━━━━━\u001b[0m \u001b[32m23.7/23.7 MB\u001b[0m \u001b[31m18.9 MB/s\u001b[0m eta \u001b[36m0:00:00\u001b[0m\n",
            "\u001b[2K     \u001b[90m━━━━━━━━━━━━━━━━━━━━━━━━━━━━━━━━━━━━━━━━\u001b[0m \u001b[32m823.6/823.6 kB\u001b[0m \u001b[31m32.1 MB/s\u001b[0m eta \u001b[36m0:00:00\u001b[0m\n",
            "\u001b[2K     \u001b[90m━━━━━━━━━━━━━━━━━━━━━━━━━━━━━━━━━━━━━━━━\u001b[0m \u001b[32m14.1/14.1 MB\u001b[0m \u001b[31m43.3 MB/s\u001b[0m eta \u001b[36m0:00:00\u001b[0m\n",
            "\u001b[2K     \u001b[90m━━━━━━━━━━━━━━━━━━━━━━━━━━━━━━━━━━━━━━━━\u001b[0m \u001b[32m731.7/731.7 MB\u001b[0m \u001b[31m1.7 MB/s\u001b[0m eta \u001b[36m0:00:00\u001b[0m\n",
            "\u001b[2K     \u001b[90m━━━━━━━━━━━━━━━━━━━━━━━━━━━━━━━━━━━━━━━━\u001b[0m \u001b[32m410.6/410.6 MB\u001b[0m \u001b[31m1.3 MB/s\u001b[0m eta \u001b[36m0:00:00\u001b[0m\n",
            "\u001b[2K     \u001b[90m━━━━━━━━━━━━━━━━━━━━━━━━━━━━━━━━━━━━━━━━\u001b[0m \u001b[32m121.6/121.6 MB\u001b[0m \u001b[31m8.4 MB/s\u001b[0m eta \u001b[36m0:00:00\u001b[0m\n",
            "\u001b[2K     \u001b[90m━━━━━━━━━━━━━━━━━━━━━━━━━━━━━━━━━━━━━━━━\u001b[0m \u001b[32m56.5/56.5 MB\u001b[0m \u001b[31m9.1 MB/s\u001b[0m eta \u001b[36m0:00:00\u001b[0m\n",
            "\u001b[2K     \u001b[90m━━━━━━━━━━━━━━━━━━━━━━━━━━━━━━━━━━━━━━━━\u001b[0m \u001b[32m124.2/124.2 MB\u001b[0m \u001b[31m6.7 MB/s\u001b[0m eta \u001b[36m0:00:00\u001b[0m\n",
            "\u001b[2K     \u001b[90m━━━━━━━━━━━━━━━━━━━━━━━━━━━━━━━━━━━━━━━━\u001b[0m \u001b[32m196.0/196.0 MB\u001b[0m \u001b[31m2.6 MB/s\u001b[0m eta \u001b[36m0:00:00\u001b[0m\n",
            "\u001b[2K     \u001b[90m━━━━━━━━━━━━━━━━━━━━━━━━━━━━━━━━━━━━━━━━\u001b[0m \u001b[32m166.0/166.0 MB\u001b[0m \u001b[31m6.5 MB/s\u001b[0m eta \u001b[36m0:00:00\u001b[0m\n",
            "\u001b[2K     \u001b[90m━━━━━━━━━━━━━━━━━━━━━━━━━━━━━━━━━━━━━━━━\u001b[0m \u001b[32m99.1/99.1 kB\u001b[0m \u001b[31m8.8 MB/s\u001b[0m eta \u001b[36m0:00:00\u001b[0m\n",
            "\u001b[2K     \u001b[90m━━━━━━━━━━━━━━━━━━━━━━━━━━━━━━━━━━━━━━━━\u001b[0m \u001b[32m21.1/21.1 MB\u001b[0m \u001b[31m38.7 MB/s\u001b[0m eta \u001b[36m0:00:00\u001b[0m\n",
            "\u001b[2K     \u001b[90m━━━━━━━━━━━━━━━━━━━━━━━━━━━━━━━━━━━━━━━━\u001b[0m \u001b[32m2.2/2.2 MB\u001b[0m \u001b[31m11.0 MB/s\u001b[0m eta \u001b[36m0:00:00\u001b[0m\n",
            "\u001b[2K     \u001b[90m━━━━━━━━━━━━━━━━━━━━━━━━━━━━━━━━━━━━━━━━\u001b[0m \u001b[32m207.3/207.3 kB\u001b[0m \u001b[31m9.7 MB/s\u001b[0m eta \u001b[36m0:00:00\u001b[0m\n",
            "\u001b[2K     \u001b[90m━━━━━━━━━━━━━━━━━━━━━━━━━━━━━━━━━━━━━━━━\u001b[0m \u001b[32m266.1/266.1 kB\u001b[0m \u001b[31m11.7 MB/s\u001b[0m eta \u001b[36m0:00:00\u001b[0m\n",
            "\u001b[2K     \u001b[90m━━━━━━━━━━━━━━━━━━━━━━━━━━━━━━━━━━━━━━━━\u001b[0m \u001b[32m62.7/62.7 kB\u001b[0m \u001b[31m6.5 MB/s\u001b[0m eta \u001b[36m0:00:00\u001b[0m\n",
            "\u001b[?25h"
          ]
        }
      ]
    },
    {
      "cell_type": "code",
      "execution_count": 24,
      "metadata": {
        "id": "o4lwR6__7xmZ"
      },
      "outputs": [],
      "source": [
        "import torch\n",
        "import torch.nn as nn\n",
        "import torch.nn.functional as F\n",
        "import pytorch_lightning as L\n",
        "from torch.utils.data import DataLoader, random_split, SubsetRandomSampler, Subset\n",
        "from sklearn.model_selection import train_test_split\n",
        "from torchvision.datasets import ImageFolder\n",
        "import torchvision.transforms as transforms\n",
        "import os\n",
        "import matplotlib.pyplot as plt\n",
        "import numpy as np\n",
        "import torchvision\n",
        "from torchmetrics import Accuracy\n",
        "from pytorch_lightning.callbacks import EarlyStopping,Callback,ModelCheckpoint\n",
        "from pytorch_lightning.loggers import WandbLogger\n",
        "import wandb\n",
        "from google.colab import userdata"
      ]
    },
    {
      "cell_type": "code",
      "source": [
        "from google.colab import drive\n",
        "drive.mount('/content/drive')\n"
      ],
      "metadata": {
        "id": "AxxmRqWHZext",
        "colab": {
          "base_uri": "https://localhost:8080/"
        },
        "outputId": "c8db7117-7c98-48f4-9159-a5ae87335e3f"
      },
      "execution_count": 4,
      "outputs": [
        {
          "output_type": "stream",
          "name": "stdout",
          "text": [
            "Mounted at /content/drive\n"
          ]
        }
      ]
    },
    {
      "cell_type": "code",
      "source": [
        "zip_path = \"/content/drive/MyDrive/Deep Learning/nature_12K.zip\"\n",
        "!cp \"{zip_path}\" .\n",
        "!unzip -q nature_12K.zip\n",
        "!rm nature_12K.zip"
      ],
      "metadata": {
        "id": "WgqRtab3B00B"
      },
      "execution_count": 5,
      "outputs": []
    },
    {
      "cell_type": "code",
      "source": [
        "wandb.login(key=userdata.get('wandb_key'))\n",
        "wandb_project=\"CS6910 - Assignment 2\"\n",
        "wandb_entity=\"ns24z060\""
      ],
      "metadata": {
        "id": "XIpWnHvuszqn",
        "colab": {
          "base_uri": "https://localhost:8080/"
        },
        "outputId": "37285680-bd53-4777-b458-5a7afd97ced0"
      },
      "execution_count": 6,
      "outputs": [
        {
          "output_type": "stream",
          "name": "stderr",
          "text": [
            "\u001b[34m\u001b[1mwandb\u001b[0m: W&B API key is configured. Use \u001b[1m`wandb login --relogin`\u001b[0m to force relogin\n",
            "\u001b[34m\u001b[1mwandb\u001b[0m: \u001b[33mWARNING\u001b[0m If you're specifying your api key in code, ensure this code is not shared publicly.\n",
            "\u001b[34m\u001b[1mwandb\u001b[0m: \u001b[33mWARNING\u001b[0m Consider setting the WANDB_API_KEY environment variable, or running `wandb login` from the command line.\n",
            "\u001b[34m\u001b[1mwandb\u001b[0m: Appending key for api.wandb.ai to your netrc file: /root/.netrc\n"
          ]
        }
      ]
    },
    {
      "cell_type": "markdown",
      "source": [
        "**Loading & Splitting Dataset**"
      ],
      "metadata": {
        "id": "QcWdSSs8nN6J"
      }
    },
    {
      "cell_type": "code",
      "source": [
        "class DataModule(L.LightningDataModule):\n",
        "    def __init__(self, batch_size=64, augment_data= True ,data_dir = './inaturalist_12K',num_workers=2):\n",
        "        super().__init__()\n",
        "        self.data_dir = data_dir\n",
        "        self.batch_size = batch_size\n",
        "        self.augment_data = augment_data\n",
        "        self.num_workers=num_workers\n",
        "\n",
        "\n",
        "        self.augmentation = transforms.Compose([\n",
        "              transforms.RandomResizedCrop(size=256, scale=(0.8, 1.0)),\n",
        "              transforms.RandomRotation(degrees=15),\n",
        "              transforms.RandomHorizontalFlip(),\n",
        "              transforms.CenterCrop(size=224),\n",
        "              transforms.ToTensor(),\n",
        "              transforms.Normalize((0.5, 0.5, 0.5), (0.5, 0.5, 0.5))\n",
        "        ])\n",
        "\n",
        "        self.transform = transforms.Compose([\n",
        "              transforms.Resize(size=256),\n",
        "              transforms.CenterCrop(size=224),\n",
        "              transforms.ToTensor(),\n",
        "              transforms.Normalize((0.5, 0.5, 0.5), (0.5, 0.5, 0.5))\n",
        "        ])\n",
        "\n",
        "\n",
        "\n",
        "    def prepare_data(self):\n",
        "        self.train_dataset = ImageFolder(root=f'{self.data_dir}/train')\n",
        "        self.test_dataset = ImageFolder(root=f'{self.data_dir}/val')\n",
        "        print(f'Classes {self.train_dataset.classes}')\n",
        "        print(f'Test Samples {len(self.test_dataset)}')\n",
        "\n",
        "\n",
        "    def setup(self, stage=None):\n",
        "        self.test_dataset.transform = self.transform\n",
        "        labels = self.train_dataset.targets\n",
        "        train_indices, val_indices = train_test_split(\n",
        "            range(len(self.train_dataset)),\n",
        "            test_size=0.2,\n",
        "            random_state=42,\n",
        "            stratify=labels\n",
        "        )\n",
        "        if stage=='fit':\n",
        "          class_names = self.train_dataset.classes\n",
        "          class_counts = {class_name: 0 for class_name in class_names}\n",
        "          for val_indice in val_indices:\n",
        "              _, class_idx = self.train_dataset[val_indice]\n",
        "              class_name = class_names[class_idx]\n",
        "              class_counts[class_name] += 1\n",
        "          print('Validation Datased Class Distribution')\n",
        "          for class_name, count in class_counts.items():\n",
        "              print(f\"Class: {class_name}, No. of samples: {count}\")\n",
        "        self.val_dataset = Subset(self.train_dataset, val_indices)\n",
        "        self.train_dataset = Subset(self.train_dataset, train_indices)\n",
        "        if stage=='fit':\n",
        "          print(f'Train Samples {len(self.train_dataset)}')\n",
        "          print(f'Val Samples {len(self.val_dataset)}')\n",
        "\n",
        "        if self.augment_data:\n",
        "          self.train_dataset.dataset.transform = self.augmentation\n",
        "        self.val_dataset.dataset.transform = self.transform\n",
        "\n",
        "    def train_dataloader(self):\n",
        "        return DataLoader(self.train_dataset, batch_size=self.batch_size, shuffle=True, num_workers=self.num_workers)\n",
        "\n",
        "\n",
        "    def val_dataloader(self):\n",
        "        return DataLoader(self.val_dataset, batch_size=self.batch_size, num_workers=self.num_workers)\n",
        "\n",
        "\n",
        "    def test_dataloader(self):\n",
        "        return DataLoader(self.test_dataset, batch_size=self.batch_size, num_workers=self.num_workers)\n",
        "\n"
      ],
      "metadata": {
        "id": "0b0lyT0QZnGg"
      },
      "execution_count": 18,
      "outputs": []
    },
    {
      "cell_type": "code",
      "source": [
        "class Net(nn.Module):\n",
        "  def __init__(self,\n",
        "                activation_function,\n",
        "                num_filters,\n",
        "                dense_neurons,\n",
        "                batch_size,\n",
        "                batch_norm,\n",
        "                dropout,\n",
        "                filter_size=3,\n",
        "                stride=2\n",
        "                ):\n",
        "      super().__init__()\n",
        "      self.batch_size=batch_size\n",
        "      cnn_layers = []\n",
        "      for i in range(5):\n",
        "        in_channels = 3 if i==0 else num_filters[i-1]\n",
        "        cnn_layers.extend([nn.Conv2d(in_channels, num_filters[i], kernel_size=filter_size),\n",
        "                      getattr(nn, activation_function)(),\n",
        "                      ])\n",
        "        if batch_norm:\n",
        "          cnn_layers.append(nn.BatchNorm2d(num_filters[i],affine=True))\n",
        "        cnn_layers.append(nn.MaxPool2d(kernel_size=filter_size,stride=stride))\n",
        "\n",
        "      self.cnn_net = nn.Sequential(*cnn_layers)\n",
        "      n_sizes = self._get_conv_output((3,224,224))\n",
        "      dnn_layers = [\n",
        "          nn.Flatten(),\n",
        "          nn.Linear(n_sizes, dense_neurons)]\n",
        "      if dropout:\n",
        "        dnn_layers.append(nn.Dropout(dropout))\n",
        "      dnn_layers.extend([\n",
        "          getattr(nn, activation_function)(),\n",
        "          nn.Linear(dense_neurons, 10)])\n",
        "      self.dnn_net = nn.Sequential(*dnn_layers)\n",
        "\n",
        "  def _get_conv_output(self, shape):\n",
        "        input = torch.autograd.Variable(torch.rand(self.batch_size, *shape))\n",
        "        output_feat = self._forward_features(input)\n",
        "        n_size = output_feat.data.view(self.batch_size, -1).size(1)\n",
        "        return n_size\n",
        "\n",
        "  def _forward_features(self, x):\n",
        "        return self.cnn_net(x)\n",
        "\n",
        "  def forward(self, x):\n",
        "        x =  self.cnn_net(x)\n",
        "        x =  self.dnn_net(x)\n",
        "        return x"
      ],
      "metadata": {
        "id": "77kf0t_Di_HY"
      },
      "execution_count": 12,
      "outputs": []
    },
    {
      "cell_type": "code",
      "source": [
        "class MyCnnModel(L.LightningModule):\n",
        "    def __init__(self,\n",
        "                 activation_function = 'ReLU',\n",
        "                 num_filters=[32,32,32,32,32],\n",
        "                 dense_neurons=1024,\n",
        "                 learning_rate=0.01,\n",
        "                 batch_size=64,\n",
        "                 dropout=0.5,\n",
        "                 batch_norm=True,\n",
        "                 loss_function='cross_entropy',\n",
        "                 optimizer='Adam'):\n",
        "        super().__init__()\n",
        "        self.save_hyperparameters()\n",
        "        self.model = Net(activation_function,num_filters,dense_neurons,batch_size,batch_norm,dropout)\n",
        "        self.accuracy = Accuracy(task=\"multiclass\", num_classes=10)\n",
        "        self.loss_function = getattr(F, loss_function)\n",
        "        self.learning_rate = learning_rate\n",
        "        self.optimizer = optimizer\n",
        "\n",
        "    def forward(self, x):\n",
        "        return self.model(x)\n",
        "\n",
        "    def training_step(self, batch, batch_idx):\n",
        "      loss,acc = self._common_step(batch,batch_idx)\n",
        "      self.log('train_loss', loss, on_step=False, on_epoch=True, logger=True)\n",
        "      self.log('train_acc', acc, on_step=False, on_epoch=True, logger=True)\n",
        "      return loss\n",
        "\n",
        "    def validation_step(self, batch, batch_idx):\n",
        "      loss,acc =  self._common_step(batch,batch_idx)\n",
        "      self.log('val_loss', loss, prog_bar=True, on_step=False, on_epoch=True, logger=True)\n",
        "      self.log('val_acc', acc, prog_bar=True, on_step=False, on_epoch=True, logger=True)\n",
        "      return loss\n",
        "\n",
        "\n",
        "    def test_step(self,batch,batch_idx):\n",
        "      loss,acc =  self._common_step(batch,batch_idx)\n",
        "      self.log('test_loss', loss, prog_bar=True, on_step=False, on_epoch=True, logger=True)\n",
        "      self.log('test_acc', acc, prog_bar=True, on_step=False, on_epoch=True, logger=True)\n",
        "      return loss\n",
        "\n",
        "    def _common_step(self, batch, batch_idx):\n",
        "      inputs, target = batch\n",
        "      output = self.forward(inputs)\n",
        "      loss = self.loss_function(output, target)\n",
        "      acc = self.accuracy(output, target)\n",
        "      return loss,acc\n",
        "\n",
        "    def configure_optimizers(self):\n",
        "      return getattr(torch.optim,self.optimizer)(self.parameters(), lr=self.learning_rate)"
      ],
      "metadata": {
        "id": "ZfkUkWRAha2s"
      },
      "execution_count": 13,
      "outputs": []
    },
    {
      "cell_type": "code",
      "source": [
        "class ImagePredictionLogger(L.callbacks.Callback):\n",
        "    def __init__(self, samples, num_samples=30):\n",
        "        super().__init__()\n",
        "        self.num_samples = num_samples\n",
        "        self.sample_imgs, self.val_labels = samples\n",
        "        self.classes = classes = ['Amphibia', 'Animalia', 'Arachnida', 'Aves', 'Fungi', 'Insecta', 'Mammalia', 'Mollusca', 'Plantae', 'Reptilia']\n",
        "\n",
        "    def on_validation_epoch_end(self, trainer, pl_module):\n",
        "        sample_imgs = self.sample_imgs.to(device=pl_module.device)\n",
        "        val_labels = self.val_labels.to(device=pl_module.device)\n",
        "        logits = pl_module(sample_imgs)\n",
        "        preds = torch.argmax(logits, -1)\n",
        "\n",
        "        trainer.logger.experiment.log({\n",
        "            \"examples\":[wandb.Image(x, caption=f\"Pred:{self.classes[pred]}, Label:{self.classes[y]}\")\n",
        "                           for x, pred, y in zip(sample_imgs[:self.num_samples],\n",
        "                                                 preds[:self.num_samples],\n",
        "                                                 val_labels[:self.num_samples])]\n",
        "            })\n",
        "\n",
        "    def on_test_epoch_end(self, trainer, pl_module):\n",
        "        sample_imgs = self.sample_imgs.to(device=pl_module.device)\n",
        "        val_labels = self.val_labels.to(device=pl_module.device)\n",
        "        logits = pl_module(sample_imgs)\n",
        "        preds = torch.argmax(logits, -1)\n",
        "\n",
        "        trainer.logger.experiment.log({\n",
        "            \"Test Predictions\":[wandb.Image(x, caption=f\"Pred:{self.classes[pred]}, Label:{self.classes[y]}\")\n",
        "                           for x, pred, y in zip(sample_imgs[:self.num_samples],\n",
        "                                                 preds[:self.num_samples],\n",
        "                                                 val_labels[:self.num_samples])]\n",
        "            })\n"
      ],
      "metadata": {
        "id": "Xw8zo9GwTJWX"
      },
      "execution_count": 27,
      "outputs": []
    },
    {
      "cell_type": "code",
      "source": [
        "def train():\n",
        "\n",
        "    config_defaults = {\n",
        "        \"num_filters\": [32,32,32,32,32],\n",
        "        \"batch_norm\": True,\n",
        "        \"augment_data\": True,\n",
        "        \"dropout\":0.5,\n",
        "        \"learning_rate\": 1e-3,\n",
        "        \"activation_function\": 'ReLU',\n",
        "        \"batch_size\": 32,\n",
        "        \"epochs\": 10,\n",
        "        \"dense_neurons\": 512\n",
        "    }\n",
        "\n",
        "    wandb.init(config=config_defaults, magic=True)\n",
        "    config = wandb.config\n",
        "\n",
        "    name = \"_\".join([\"n_filter\", str(config.num_filters), \"lr\", str(config.learning_rate), \"augmt\", str(config.augment_data),\n",
        "                      \"drop\", str(config.dropout), \"b_nrm\", str(config.batch_norm),\"dse_nrn\",str(config.dense_neurons),\"batch\",str(config.batch_size),\"activ\",config.activation_function,\"eph\",str(config.epochs)])\n",
        "    api = wandb.Api()\n",
        "    runs = api.runs(wandb.run.project, {\"$and\": [{\"config.name\": name}]})\n",
        "    if len(runs) > 0:\n",
        "        return\n",
        "    wandb.run.name = name\n",
        "    dm = DataModule(config.batch_size,config.augment_data)\n",
        "    dm.prepare_data()\n",
        "    dm.setup()\n",
        "    val_samples = next(iter(dm.val_dataloader()))\n",
        "    model = MyCnnModel(config.activation_function,config.num_filters,config.dense_neurons,config.learning_rate,config.batch_size,config.dropout,config.batch_norm)\n",
        "    checkpoint_callback = ModelCheckpoint(monitor=\"val_loss\", mode='max',dirpath='/content/drive/MyDrive/Deep Learning',save_top_k=1,filename='best_model')\n",
        "    wandb_logger = WandbLogger(project=wandb_project, job_type='train', log_model='all')\n",
        "    early_stop_callback = EarlyStopping(monitor=\"val_loss\",patience=3)\n",
        "    trainer = L.Trainer(\n",
        "      max_epochs=config.epochs,\n",
        "      check_val_every_n_epoch=1,\n",
        "      log_every_n_steps=1,\n",
        "      logger=wandb_logger,\n",
        "      # fast_dev_run=1,\n",
        "      # limit_train_batches=0.01,\n",
        "      # limit_val_batches=0.03125,\n",
        "      callbacks=[checkpoint_callback,ImagePredictionLogger(val_samples),early_stop_callback])\n",
        "    trainer.fit(model, dm)\n",
        "    best_model_path = checkpoint_callback.best_model_path\n",
        "    wandb.log({f'best_model_path{wandb.run.name}': best_model_path})"
      ],
      "metadata": {
        "id": "puesTa6rBP12"
      },
      "execution_count": 16,
      "outputs": []
    },
    {
      "cell_type": "code",
      "source": [
        "sweep_config = {\n",
        "  \"name\": \"Assignment_2_iNaturalis\",\n",
        "  \"method\": \"bayes\",\n",
        "  'metric': {\n",
        "      'name': 'val_acc',\n",
        "      'goal': 'maximize'\n",
        "    },\n",
        "  \"parameters\": {\n",
        "        \"num_filters\": {\n",
        "            \"values\": [[32,32,32,32,32],[16,32,64,128,256],[256,128,64,32,16],[128,128,64,64,32]]\n",
        "        },\n",
        "        \"batch_norm\":{\n",
        "          \"values\": [True,False]\n",
        "        },\n",
        "        \"augment_data\":{\n",
        "          \"values\": [True,False]\n",
        "        },\n",
        "        \"dropout\":{\n",
        "            \"values\": [0,0.2,0.3,0.5]\n",
        "        },\n",
        "        \"learning_rate\": {\n",
        "            \"values\": [1e-3,1e-4,1e-5]\n",
        "        },\n",
        "        \"activation_function\": {\n",
        "            \"values\": [ \"ReLU\",\"GELU\",\"SELU\"]\n",
        "        },\n",
        "        \"batch_size\": {\n",
        "            \"values\": [8,32,64,128]\n",
        "        },\n",
        "        \"epochs\": {\n",
        "            \"values\": [10,15,20]\n",
        "        },\n",
        "        \"dense_neurons\": {\n",
        "            \"values\": [128,512,1024]\n",
        "        }\n",
        "    }\n",
        "}\n",
        "\n",
        "\n",
        "# sweep_id = wandb.sweep(sweep_config, entity=wandb_entity, project=wandb_project)\n",
        "wandb.agent(\"82wf4qdi\", train, count=50, entity=wandb_entity, project=wandb_project)\n",
        "wandb.finish()"
      ],
      "metadata": {
        "id": "zGbEb3903ptK",
        "colab": {
          "base_uri": "https://localhost:8080/",
          "height": 543,
          "referenced_widgets": [
            "3734ae2ad52d418e83bb337fadc6ca07",
            "5aba6329db6b4389b453dd187b3cf244",
            "f13e409f05e3410d972b0578c390496f",
            "35d2c713fad44dcb8d86233ed595b56f",
            "66f69c8f388542459fd87572d23db4af",
            "7f388cde29b6409a845ae6a349ab9b39",
            "6b0eb83f35ae489c9b3df6ea05848e34",
            "f590ac5e6d8c4c6489f1da7e50431b14"
          ]
        },
        "outputId": "89c9834d-164a-4469-d078-0636dac70b97"
      },
      "execution_count": 12,
      "outputs": [
        {
          "output_type": "stream",
          "name": "stderr",
          "text": [
            "\u001b[34m\u001b[1mwandb\u001b[0m: Agent Starting Run: 5r0z9fdv with config:\n",
            "\u001b[34m\u001b[1mwandb\u001b[0m: \tactivation_function: GELU\n",
            "\u001b[34m\u001b[1mwandb\u001b[0m: \taugment_data: False\n",
            "\u001b[34m\u001b[1mwandb\u001b[0m: \tbatch_norm: False\n",
            "\u001b[34m\u001b[1mwandb\u001b[0m: \tbatch_size: 32\n",
            "\u001b[34m\u001b[1mwandb\u001b[0m: \tdense_neurons: 128\n",
            "\u001b[34m\u001b[1mwandb\u001b[0m: \tdropout: 0\n",
            "\u001b[34m\u001b[1mwandb\u001b[0m: \tepochs: 15\n",
            "\u001b[34m\u001b[1mwandb\u001b[0m: \tlearning_rate: 0.0001\n",
            "\u001b[34m\u001b[1mwandb\u001b[0m: \tnum_filters: [32, 32, 32, 32, 32]\n",
            "\u001b[34m\u001b[1mwandb\u001b[0m: Currently logged in as: \u001b[33mns24z060\u001b[0m. Use \u001b[1m`wandb login --relogin`\u001b[0m to force relogin\n",
            "\u001b[34m\u001b[1mwandb\u001b[0m: \u001b[33mWARNING\u001b[0m wandb.init() arguments ignored because wandb magic has already been initialized\n"
          ]
        },
        {
          "output_type": "display_data",
          "data": {
            "text/plain": [
              "<IPython.core.display.HTML object>"
            ],
            "text/html": [
              "Tracking run with wandb version 0.16.6"
            ]
          },
          "metadata": {}
        },
        {
          "output_type": "display_data",
          "data": {
            "text/plain": [
              "<IPython.core.display.HTML object>"
            ],
            "text/html": [
              "Run data is saved locally in <code>/content/wandb/run-20240407_094412-5r0z9fdv</code>"
            ]
          },
          "metadata": {}
        },
        {
          "output_type": "display_data",
          "data": {
            "text/plain": [
              "<IPython.core.display.HTML object>"
            ],
            "text/html": [
              "Syncing run <strong><a href='https://wandb.ai/ns24z060/CS6910%20-%20Assignment%202/runs/5r0z9fdv' target=\"_blank\">woven-sweep-11</a></strong> to <a href='https://wandb.ai/ns24z060/CS6910%20-%20Assignment%202' target=\"_blank\">Weights & Biases</a> (<a href='https://wandb.me/run' target=\"_blank\">docs</a>)<br/>Sweep page: <a href='https://wandb.ai/ns24z060/CS6910%20-%20Assignment%202/sweeps/82wf4qdi' target=\"_blank\">https://wandb.ai/ns24z060/CS6910%20-%20Assignment%202/sweeps/82wf4qdi</a>"
            ]
          },
          "metadata": {}
        },
        {
          "output_type": "display_data",
          "data": {
            "text/plain": [
              "<IPython.core.display.HTML object>"
            ],
            "text/html": [
              " View project at <a href='https://wandb.ai/ns24z060/CS6910%20-%20Assignment%202' target=\"_blank\">https://wandb.ai/ns24z060/CS6910%20-%20Assignment%202</a>"
            ]
          },
          "metadata": {}
        },
        {
          "output_type": "display_data",
          "data": {
            "text/plain": [
              "<IPython.core.display.HTML object>"
            ],
            "text/html": [
              " View sweep at <a href='https://wandb.ai/ns24z060/CS6910%20-%20Assignment%202/sweeps/82wf4qdi' target=\"_blank\">https://wandb.ai/ns24z060/CS6910%20-%20Assignment%202/sweeps/82wf4qdi</a>"
            ]
          },
          "metadata": {}
        },
        {
          "output_type": "display_data",
          "data": {
            "text/plain": [
              "<IPython.core.display.HTML object>"
            ],
            "text/html": [
              " View run at <a href='https://wandb.ai/ns24z060/CS6910%20-%20Assignment%202/runs/5r0z9fdv' target=\"_blank\">https://wandb.ai/ns24z060/CS6910%20-%20Assignment%202/runs/5r0z9fdv</a>"
            ]
          },
          "metadata": {}
        },
        {
          "output_type": "stream",
          "name": "stderr",
          "text": [
            "\u001b[34m\u001b[1mwandb\u001b[0m: Ctrl + C detected. Stopping sweep.\n"
          ]
        },
        {
          "output_type": "display_data",
          "data": {
            "text/plain": [
              "<IPython.core.display.HTML object>"
            ],
            "text/html": [
              "Finishing last run (ID:5r0z9fdv) before initializing another..."
            ]
          },
          "metadata": {}
        },
        {
          "output_type": "display_data",
          "data": {
            "text/plain": [
              "<IPython.core.display.HTML object>"
            ],
            "text/html": [
              "Successfully finished last run (ID:5r0z9fdv). Initializing new run:<br/>"
            ]
          },
          "metadata": {}
        },
        {
          "output_type": "display_data",
          "data": {
            "text/plain": [
              "VBox(children=(Label(value='Waiting for wandb.init()...\\r'), FloatProgress(value=0.011113053611110344, max=1.0…"
            ],
            "application/vnd.jupyter.widget-view+json": {
              "version_major": 2,
              "version_minor": 0,
              "model_id": "3734ae2ad52d418e83bb337fadc6ca07"
            }
          },
          "metadata": {}
        },
        {
          "output_type": "stream",
          "name": "stderr",
          "text": [
            "\u001b[34m\u001b[1mwandb\u001b[0m: \u001b[32m\u001b[41mERROR\u001b[0m Control-C detected -- Run data was not synced\n",
            "/usr/local/lib/python3.10/dist-packages/wandb/sdk/wandb_run.py:2265: UserWarning: Run (5r0z9fdv) is finished. The call to `_console_raw_callback` will be ignored. Please make sure that you are using an active run.\n",
            "  lambda data: self._console_raw_callback(\"stderr\", data),\n"
          ]
        }
      ]
    },
    {
      "cell_type": "markdown",
      "source": [],
      "metadata": {
        "id": "Cu04f0-y5mAt"
      }
    },
    {
      "cell_type": "markdown",
      "source": [
        "Load Best Model & Check Test Accuracy"
      ],
      "metadata": {
        "id": "vDD-tjwTezBT"
      }
    },
    {
      "cell_type": "code",
      "source": [
        "model = MyCnnModel.load_from_checkpoint(checkpoint_path='/content/drive/MyDrive/Deep Learning/best_model-v5.ckpt')\n",
        "dm = DataModule()\n",
        "dm.prepare_data()\n",
        "dm.setup()\n",
        "test_samples = next(iter(dm.test_dataloader()))\n",
        "wandb_logger = WandbLogger(project=wandb_project, job_type='test', name='test_images_prediction')\n",
        "trainer = L.Trainer(logger=wandb_logger,callbacks=[ImagePredictionLogger(test_samples)])\n",
        "trainer.test(model,dm)\n",
        "wandb.finish()"
      ],
      "metadata": {
        "id": "0WEj12ZVfw6h",
        "colab": {
          "base_uri": "https://localhost:8080/",
          "height": 347,
          "referenced_widgets": [
            "e7704629734246c6b3a880b07bad19d5",
            "6a64df25f59e4c24a03689299f15557e",
            "901beca586104d38a40633c227751e3b",
            "ba5f4bc359774cc09e0b421d6463098d",
            "4040115ec40440a5921a99faf09aae7f",
            "3a0a418ec11c4373a2947c87fdc9fdeb",
            "5470e6ef65c24700aa177eb0259cd491",
            "b06b0b07e53f46a8a368163e93e23cec",
            "6e729b7511734826acc5e2ec7f4f8c1b",
            "2f66291c706c4827be36c659a790da08",
            "e1581facc8cf48cda15ae03c26bf0bce"
          ]
        },
        "outputId": "1b385ee1-376f-4425-f0f4-137a756c6c99"
      },
      "execution_count": 29,
      "outputs": [
        {
          "output_type": "stream",
          "name": "stdout",
          "text": [
            "Classes ['Amphibia', 'Animalia', 'Arachnida', 'Aves', 'Fungi', 'Insecta', 'Mammalia', 'Mollusca', 'Plantae', 'Reptilia']\n",
            "Test Samples 2000\n"
          ]
        },
        {
          "output_type": "stream",
          "name": "stderr",
          "text": [
            "INFO:pytorch_lightning.utilities.rank_zero:GPU available: False, used: False\n",
            "INFO:pytorch_lightning.utilities.rank_zero:TPU available: False, using: 0 TPU cores\n",
            "INFO:pytorch_lightning.utilities.rank_zero:IPU available: False, using: 0 IPUs\n",
            "INFO:pytorch_lightning.utilities.rank_zero:HPU available: False, using: 0 HPUs\n"
          ]
        },
        {
          "output_type": "stream",
          "name": "stdout",
          "text": [
            "Classes ['Amphibia', 'Animalia', 'Arachnida', 'Aves', 'Fungi', 'Insecta', 'Mammalia', 'Mollusca', 'Plantae', 'Reptilia']\n",
            "Test Samples 2000\n"
          ]
        },
        {
          "output_type": "stream",
          "name": "stderr",
          "text": [
            "/usr/local/lib/python3.10/dist-packages/pytorch_lightning/loggers/wandb.py:391: There is a wandb run already in progress and newly created instances of `WandbLogger` will reuse this run. If this is not desired, call `wandb.finish()` before instantiating `WandbLogger`.\n"
          ]
        },
        {
          "output_type": "display_data",
          "data": {
            "text/plain": [
              "Testing: |          | 0/? [00:00<?, ?it/s]"
            ],
            "application/vnd.jupyter.widget-view+json": {
              "version_major": 2,
              "version_minor": 0,
              "model_id": "e7704629734246c6b3a880b07bad19d5"
            }
          },
          "metadata": {}
        },
        {
          "output_type": "display_data",
          "data": {
            "text/plain": [
              "┏━━━━━━━━━━━━━━━━━━━━━━━━━━━┳━━━━━━━━━━━━━━━━━━━━━━━━━━━┓\n",
              "┃\u001b[1m \u001b[0m\u001b[1m       Test metric       \u001b[0m\u001b[1m \u001b[0m┃\u001b[1m \u001b[0m\u001b[1m      DataLoader 0       \u001b[0m\u001b[1m \u001b[0m┃\n",
              "┡━━━━━━━━━━━━━━━━━━━━━━━━━━━╇━━━━━━━━━━━━━━━━━━━━━━━━━━━┩\n",
              "│\u001b[36m \u001b[0m\u001b[36m        test_acc         \u001b[0m\u001b[36m \u001b[0m│\u001b[35m \u001b[0m\u001b[35m   0.30550000071525574   \u001b[0m\u001b[35m \u001b[0m│\n",
              "│\u001b[36m \u001b[0m\u001b[36m        test_loss        \u001b[0m\u001b[36m \u001b[0m│\u001b[35m \u001b[0m\u001b[35m   2.0237512588500977    \u001b[0m\u001b[35m \u001b[0m│\n",
              "└───────────────────────────┴───────────────────────────┘\n"
            ],
            "text/html": [
              "<pre style=\"white-space:pre;overflow-x:auto;line-height:normal;font-family:Menlo,'DejaVu Sans Mono',consolas,'Courier New',monospace\">┏━━━━━━━━━━━━━━━━━━━━━━━━━━━┳━━━━━━━━━━━━━━━━━━━━━━━━━━━┓\n",
              "┃<span style=\"font-weight: bold\">        Test metric        </span>┃<span style=\"font-weight: bold\">       DataLoader 0        </span>┃\n",
              "┡━━━━━━━━━━━━━━━━━━━━━━━━━━━╇━━━━━━━━━━━━━━━━━━━━━━━━━━━┩\n",
              "│<span style=\"color: #008080; text-decoration-color: #008080\">         test_acc          </span>│<span style=\"color: #800080; text-decoration-color: #800080\">    0.30550000071525574    </span>│\n",
              "│<span style=\"color: #008080; text-decoration-color: #008080\">         test_loss         </span>│<span style=\"color: #800080; text-decoration-color: #800080\">    2.0237512588500977     </span>│\n",
              "└───────────────────────────┴───────────────────────────┘\n",
              "</pre>\n"
            ]
          },
          "metadata": {}
        },
        {
          "output_type": "execute_result",
          "data": {
            "text/plain": [
              "[{'test_loss': 2.0237512588500977, 'test_acc': 0.30550000071525574}]"
            ]
          },
          "metadata": {},
          "execution_count": 29
        }
      ]
    }
  ]
}