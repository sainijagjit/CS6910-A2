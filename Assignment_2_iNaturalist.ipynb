{
  "nbformat": 4,
  "nbformat_minor": 0,
  "metadata": {
    "colab": {
      "provenance": [],
      "toc_visible": true,
      "include_colab_link": true
    },
    "kernelspec": {
      "name": "python3",
      "display_name": "Python 3"
    },
    "language_info": {
      "name": "python"
    },
    "widgets": {
      "application/vnd.jupyter.widget-state+json": {
        "0eafcde8ec1d4bdca67c99b0a8d46102": {
          "model_module": "@jupyter-widgets/controls",
          "model_name": "HBoxModel",
          "model_module_version": "1.5.0",
          "state": {
            "_dom_classes": [],
            "_model_module": "@jupyter-widgets/controls",
            "_model_module_version": "1.5.0",
            "_model_name": "HBoxModel",
            "_view_count": null,
            "_view_module": "@jupyter-widgets/controls",
            "_view_module_version": "1.5.0",
            "_view_name": "HBoxView",
            "box_style": "",
            "children": [
              "IPY_MODEL_e7e7d84478e940bb81678652556e3c47",
              "IPY_MODEL_b1f1b22dbe4345159294f140fbe3d4ec",
              "IPY_MODEL_1772537e641d4a768d6e64d90ccbc2e9"
            ],
            "layout": "IPY_MODEL_dd1eb96f443e49d997ccdb9b0b11d3b0"
          }
        },
        "e7e7d84478e940bb81678652556e3c47": {
          "model_module": "@jupyter-widgets/controls",
          "model_name": "HTMLModel",
          "model_module_version": "1.5.0",
          "state": {
            "_dom_classes": [],
            "_model_module": "@jupyter-widgets/controls",
            "_model_module_version": "1.5.0",
            "_model_name": "HTMLModel",
            "_view_count": null,
            "_view_module": "@jupyter-widgets/controls",
            "_view_module_version": "1.5.0",
            "_view_name": "HTMLView",
            "description": "",
            "description_tooltip": null,
            "layout": "IPY_MODEL_ef3cb3a260e94c209472c6ee9adc9fbf",
            "placeholder": "​",
            "style": "IPY_MODEL_eb0c2d6fe2f54e2ca499cb3d22960781",
            "value": "Sanity Checking DataLoader 0: 100%"
          }
        },
        "b1f1b22dbe4345159294f140fbe3d4ec": {
          "model_module": "@jupyter-widgets/controls",
          "model_name": "FloatProgressModel",
          "model_module_version": "1.5.0",
          "state": {
            "_dom_classes": [],
            "_model_module": "@jupyter-widgets/controls",
            "_model_module_version": "1.5.0",
            "_model_name": "FloatProgressModel",
            "_view_count": null,
            "_view_module": "@jupyter-widgets/controls",
            "_view_module_version": "1.5.0",
            "_view_name": "ProgressView",
            "bar_style": "",
            "description": "",
            "description_tooltip": null,
            "layout": "IPY_MODEL_e429cf02f0534909ba84de3cc6ca87e9",
            "max": 1,
            "min": 0,
            "orientation": "horizontal",
            "style": "IPY_MODEL_5ab61d0c5f7c4127bd7499f0c3d88e47",
            "value": 1
          }
        },
        "1772537e641d4a768d6e64d90ccbc2e9": {
          "model_module": "@jupyter-widgets/controls",
          "model_name": "HTMLModel",
          "model_module_version": "1.5.0",
          "state": {
            "_dom_classes": [],
            "_model_module": "@jupyter-widgets/controls",
            "_model_module_version": "1.5.0",
            "_model_name": "HTMLModel",
            "_view_count": null,
            "_view_module": "@jupyter-widgets/controls",
            "_view_module_version": "1.5.0",
            "_view_name": "HTMLView",
            "description": "",
            "description_tooltip": null,
            "layout": "IPY_MODEL_c33cf4d7951f452f8c5afb5e31f80a6e",
            "placeholder": "​",
            "style": "IPY_MODEL_4df4d850de4a4334810e231b6555945b",
            "value": " 1/1 [00:07&lt;00:00,  0.13it/s]"
          }
        },
        "dd1eb96f443e49d997ccdb9b0b11d3b0": {
          "model_module": "@jupyter-widgets/base",
          "model_name": "LayoutModel",
          "model_module_version": "1.2.0",
          "state": {
            "_model_module": "@jupyter-widgets/base",
            "_model_module_version": "1.2.0",
            "_model_name": "LayoutModel",
            "_view_count": null,
            "_view_module": "@jupyter-widgets/base",
            "_view_module_version": "1.2.0",
            "_view_name": "LayoutView",
            "align_content": null,
            "align_items": null,
            "align_self": null,
            "border": null,
            "bottom": null,
            "display": "inline-flex",
            "flex": null,
            "flex_flow": "row wrap",
            "grid_area": null,
            "grid_auto_columns": null,
            "grid_auto_flow": null,
            "grid_auto_rows": null,
            "grid_column": null,
            "grid_gap": null,
            "grid_row": null,
            "grid_template_areas": null,
            "grid_template_columns": null,
            "grid_template_rows": null,
            "height": null,
            "justify_content": null,
            "justify_items": null,
            "left": null,
            "margin": null,
            "max_height": null,
            "max_width": null,
            "min_height": null,
            "min_width": null,
            "object_fit": null,
            "object_position": null,
            "order": null,
            "overflow": null,
            "overflow_x": null,
            "overflow_y": null,
            "padding": null,
            "right": null,
            "top": null,
            "visibility": "hidden",
            "width": "100%"
          }
        },
        "ef3cb3a260e94c209472c6ee9adc9fbf": {
          "model_module": "@jupyter-widgets/base",
          "model_name": "LayoutModel",
          "model_module_version": "1.2.0",
          "state": {
            "_model_module": "@jupyter-widgets/base",
            "_model_module_version": "1.2.0",
            "_model_name": "LayoutModel",
            "_view_count": null,
            "_view_module": "@jupyter-widgets/base",
            "_view_module_version": "1.2.0",
            "_view_name": "LayoutView",
            "align_content": null,
            "align_items": null,
            "align_self": null,
            "border": null,
            "bottom": null,
            "display": null,
            "flex": null,
            "flex_flow": null,
            "grid_area": null,
            "grid_auto_columns": null,
            "grid_auto_flow": null,
            "grid_auto_rows": null,
            "grid_column": null,
            "grid_gap": null,
            "grid_row": null,
            "grid_template_areas": null,
            "grid_template_columns": null,
            "grid_template_rows": null,
            "height": null,
            "justify_content": null,
            "justify_items": null,
            "left": null,
            "margin": null,
            "max_height": null,
            "max_width": null,
            "min_height": null,
            "min_width": null,
            "object_fit": null,
            "object_position": null,
            "order": null,
            "overflow": null,
            "overflow_x": null,
            "overflow_y": null,
            "padding": null,
            "right": null,
            "top": null,
            "visibility": null,
            "width": null
          }
        },
        "eb0c2d6fe2f54e2ca499cb3d22960781": {
          "model_module": "@jupyter-widgets/controls",
          "model_name": "DescriptionStyleModel",
          "model_module_version": "1.5.0",
          "state": {
            "_model_module": "@jupyter-widgets/controls",
            "_model_module_version": "1.5.0",
            "_model_name": "DescriptionStyleModel",
            "_view_count": null,
            "_view_module": "@jupyter-widgets/base",
            "_view_module_version": "1.2.0",
            "_view_name": "StyleView",
            "description_width": ""
          }
        },
        "e429cf02f0534909ba84de3cc6ca87e9": {
          "model_module": "@jupyter-widgets/base",
          "model_name": "LayoutModel",
          "model_module_version": "1.2.0",
          "state": {
            "_model_module": "@jupyter-widgets/base",
            "_model_module_version": "1.2.0",
            "_model_name": "LayoutModel",
            "_view_count": null,
            "_view_module": "@jupyter-widgets/base",
            "_view_module_version": "1.2.0",
            "_view_name": "LayoutView",
            "align_content": null,
            "align_items": null,
            "align_self": null,
            "border": null,
            "bottom": null,
            "display": null,
            "flex": "2",
            "flex_flow": null,
            "grid_area": null,
            "grid_auto_columns": null,
            "grid_auto_flow": null,
            "grid_auto_rows": null,
            "grid_column": null,
            "grid_gap": null,
            "grid_row": null,
            "grid_template_areas": null,
            "grid_template_columns": null,
            "grid_template_rows": null,
            "height": null,
            "justify_content": null,
            "justify_items": null,
            "left": null,
            "margin": null,
            "max_height": null,
            "max_width": null,
            "min_height": null,
            "min_width": null,
            "object_fit": null,
            "object_position": null,
            "order": null,
            "overflow": null,
            "overflow_x": null,
            "overflow_y": null,
            "padding": null,
            "right": null,
            "top": null,
            "visibility": null,
            "width": null
          }
        },
        "5ab61d0c5f7c4127bd7499f0c3d88e47": {
          "model_module": "@jupyter-widgets/controls",
          "model_name": "ProgressStyleModel",
          "model_module_version": "1.5.0",
          "state": {
            "_model_module": "@jupyter-widgets/controls",
            "_model_module_version": "1.5.0",
            "_model_name": "ProgressStyleModel",
            "_view_count": null,
            "_view_module": "@jupyter-widgets/base",
            "_view_module_version": "1.2.0",
            "_view_name": "StyleView",
            "bar_color": null,
            "description_width": ""
          }
        },
        "c33cf4d7951f452f8c5afb5e31f80a6e": {
          "model_module": "@jupyter-widgets/base",
          "model_name": "LayoutModel",
          "model_module_version": "1.2.0",
          "state": {
            "_model_module": "@jupyter-widgets/base",
            "_model_module_version": "1.2.0",
            "_model_name": "LayoutModel",
            "_view_count": null,
            "_view_module": "@jupyter-widgets/base",
            "_view_module_version": "1.2.0",
            "_view_name": "LayoutView",
            "align_content": null,
            "align_items": null,
            "align_self": null,
            "border": null,
            "bottom": null,
            "display": null,
            "flex": null,
            "flex_flow": null,
            "grid_area": null,
            "grid_auto_columns": null,
            "grid_auto_flow": null,
            "grid_auto_rows": null,
            "grid_column": null,
            "grid_gap": null,
            "grid_row": null,
            "grid_template_areas": null,
            "grid_template_columns": null,
            "grid_template_rows": null,
            "height": null,
            "justify_content": null,
            "justify_items": null,
            "left": null,
            "margin": null,
            "max_height": null,
            "max_width": null,
            "min_height": null,
            "min_width": null,
            "object_fit": null,
            "object_position": null,
            "order": null,
            "overflow": null,
            "overflow_x": null,
            "overflow_y": null,
            "padding": null,
            "right": null,
            "top": null,
            "visibility": null,
            "width": null
          }
        },
        "4df4d850de4a4334810e231b6555945b": {
          "model_module": "@jupyter-widgets/controls",
          "model_name": "DescriptionStyleModel",
          "model_module_version": "1.5.0",
          "state": {
            "_model_module": "@jupyter-widgets/controls",
            "_model_module_version": "1.5.0",
            "_model_name": "DescriptionStyleModel",
            "_view_count": null,
            "_view_module": "@jupyter-widgets/base",
            "_view_module_version": "1.2.0",
            "_view_name": "StyleView",
            "description_width": ""
          }
        },
        "90be17a7a3e54683ae9184bee2d67dc7": {
          "model_module": "@jupyter-widgets/controls",
          "model_name": "HBoxModel",
          "model_module_version": "1.5.0",
          "state": {
            "_dom_classes": [],
            "_model_module": "@jupyter-widgets/controls",
            "_model_module_version": "1.5.0",
            "_model_name": "HBoxModel",
            "_view_count": null,
            "_view_module": "@jupyter-widgets/controls",
            "_view_module_version": "1.5.0",
            "_view_name": "HBoxView",
            "box_style": "",
            "children": [
              "IPY_MODEL_67637265ca874567a7541de705fb7417",
              "IPY_MODEL_8914b010f30d436492f13460398cc40b",
              "IPY_MODEL_c3a0ae913d754c85a4596997292a993d"
            ],
            "layout": "IPY_MODEL_cd9b7f6404f24adfaecd3f2205aececa"
          }
        },
        "67637265ca874567a7541de705fb7417": {
          "model_module": "@jupyter-widgets/controls",
          "model_name": "HTMLModel",
          "model_module_version": "1.5.0",
          "state": {
            "_dom_classes": [],
            "_model_module": "@jupyter-widgets/controls",
            "_model_module_version": "1.5.0",
            "_model_name": "HTMLModel",
            "_view_count": null,
            "_view_module": "@jupyter-widgets/controls",
            "_view_module_version": "1.5.0",
            "_view_name": "HTMLView",
            "description": "",
            "description_tooltip": null,
            "layout": "IPY_MODEL_2c5d67bcb0c14e1ea756c9dd3e15832a",
            "placeholder": "​",
            "style": "IPY_MODEL_8be877cce3894a5db9647f50f27e9ef3",
            "value": "Epoch 0:   0%"
          }
        },
        "8914b010f30d436492f13460398cc40b": {
          "model_module": "@jupyter-widgets/controls",
          "model_name": "FloatProgressModel",
          "model_module_version": "1.5.0",
          "state": {
            "_dom_classes": [],
            "_model_module": "@jupyter-widgets/controls",
            "_model_module_version": "1.5.0",
            "_model_name": "FloatProgressModel",
            "_view_count": null,
            "_view_module": "@jupyter-widgets/controls",
            "_view_module_version": "1.5.0",
            "_view_name": "ProgressView",
            "bar_style": "",
            "description": "",
            "description_tooltip": null,
            "layout": "IPY_MODEL_06601b4b676e4da1a216fd23e29afaec",
            "max": 1,
            "min": 0,
            "orientation": "horizontal",
            "style": "IPY_MODEL_17909d62f8b1490dace4b8c4aa5f69b8",
            "value": 0
          }
        },
        "c3a0ae913d754c85a4596997292a993d": {
          "model_module": "@jupyter-widgets/controls",
          "model_name": "HTMLModel",
          "model_module_version": "1.5.0",
          "state": {
            "_dom_classes": [],
            "_model_module": "@jupyter-widgets/controls",
            "_model_module_version": "1.5.0",
            "_model_name": "HTMLModel",
            "_view_count": null,
            "_view_module": "@jupyter-widgets/controls",
            "_view_module_version": "1.5.0",
            "_view_name": "HTMLView",
            "description": "",
            "description_tooltip": null,
            "layout": "IPY_MODEL_b533ff365bf14a82873b549140e4d31c",
            "placeholder": "​",
            "style": "IPY_MODEL_0acd3de143a64e15b4bbb3ecaa30e7c5",
            "value": " 0/1 [00:00&lt;?, ?it/s]"
          }
        },
        "cd9b7f6404f24adfaecd3f2205aececa": {
          "model_module": "@jupyter-widgets/base",
          "model_name": "LayoutModel",
          "model_module_version": "1.2.0",
          "state": {
            "_model_module": "@jupyter-widgets/base",
            "_model_module_version": "1.2.0",
            "_model_name": "LayoutModel",
            "_view_count": null,
            "_view_module": "@jupyter-widgets/base",
            "_view_module_version": "1.2.0",
            "_view_name": "LayoutView",
            "align_content": null,
            "align_items": null,
            "align_self": null,
            "border": null,
            "bottom": null,
            "display": "inline-flex",
            "flex": null,
            "flex_flow": "row wrap",
            "grid_area": null,
            "grid_auto_columns": null,
            "grid_auto_flow": null,
            "grid_auto_rows": null,
            "grid_column": null,
            "grid_gap": null,
            "grid_row": null,
            "grid_template_areas": null,
            "grid_template_columns": null,
            "grid_template_rows": null,
            "height": null,
            "justify_content": null,
            "justify_items": null,
            "left": null,
            "margin": null,
            "max_height": null,
            "max_width": null,
            "min_height": null,
            "min_width": null,
            "object_fit": null,
            "object_position": null,
            "order": null,
            "overflow": null,
            "overflow_x": null,
            "overflow_y": null,
            "padding": null,
            "right": null,
            "top": null,
            "visibility": null,
            "width": "100%"
          }
        },
        "2c5d67bcb0c14e1ea756c9dd3e15832a": {
          "model_module": "@jupyter-widgets/base",
          "model_name": "LayoutModel",
          "model_module_version": "1.2.0",
          "state": {
            "_model_module": "@jupyter-widgets/base",
            "_model_module_version": "1.2.0",
            "_model_name": "LayoutModel",
            "_view_count": null,
            "_view_module": "@jupyter-widgets/base",
            "_view_module_version": "1.2.0",
            "_view_name": "LayoutView",
            "align_content": null,
            "align_items": null,
            "align_self": null,
            "border": null,
            "bottom": null,
            "display": null,
            "flex": null,
            "flex_flow": null,
            "grid_area": null,
            "grid_auto_columns": null,
            "grid_auto_flow": null,
            "grid_auto_rows": null,
            "grid_column": null,
            "grid_gap": null,
            "grid_row": null,
            "grid_template_areas": null,
            "grid_template_columns": null,
            "grid_template_rows": null,
            "height": null,
            "justify_content": null,
            "justify_items": null,
            "left": null,
            "margin": null,
            "max_height": null,
            "max_width": null,
            "min_height": null,
            "min_width": null,
            "object_fit": null,
            "object_position": null,
            "order": null,
            "overflow": null,
            "overflow_x": null,
            "overflow_y": null,
            "padding": null,
            "right": null,
            "top": null,
            "visibility": null,
            "width": null
          }
        },
        "8be877cce3894a5db9647f50f27e9ef3": {
          "model_module": "@jupyter-widgets/controls",
          "model_name": "DescriptionStyleModel",
          "model_module_version": "1.5.0",
          "state": {
            "_model_module": "@jupyter-widgets/controls",
            "_model_module_version": "1.5.0",
            "_model_name": "DescriptionStyleModel",
            "_view_count": null,
            "_view_module": "@jupyter-widgets/base",
            "_view_module_version": "1.2.0",
            "_view_name": "StyleView",
            "description_width": ""
          }
        },
        "06601b4b676e4da1a216fd23e29afaec": {
          "model_module": "@jupyter-widgets/base",
          "model_name": "LayoutModel",
          "model_module_version": "1.2.0",
          "state": {
            "_model_module": "@jupyter-widgets/base",
            "_model_module_version": "1.2.0",
            "_model_name": "LayoutModel",
            "_view_count": null,
            "_view_module": "@jupyter-widgets/base",
            "_view_module_version": "1.2.0",
            "_view_name": "LayoutView",
            "align_content": null,
            "align_items": null,
            "align_self": null,
            "border": null,
            "bottom": null,
            "display": null,
            "flex": "2",
            "flex_flow": null,
            "grid_area": null,
            "grid_auto_columns": null,
            "grid_auto_flow": null,
            "grid_auto_rows": null,
            "grid_column": null,
            "grid_gap": null,
            "grid_row": null,
            "grid_template_areas": null,
            "grid_template_columns": null,
            "grid_template_rows": null,
            "height": null,
            "justify_content": null,
            "justify_items": null,
            "left": null,
            "margin": null,
            "max_height": null,
            "max_width": null,
            "min_height": null,
            "min_width": null,
            "object_fit": null,
            "object_position": null,
            "order": null,
            "overflow": null,
            "overflow_x": null,
            "overflow_y": null,
            "padding": null,
            "right": null,
            "top": null,
            "visibility": null,
            "width": null
          }
        },
        "17909d62f8b1490dace4b8c4aa5f69b8": {
          "model_module": "@jupyter-widgets/controls",
          "model_name": "ProgressStyleModel",
          "model_module_version": "1.5.0",
          "state": {
            "_model_module": "@jupyter-widgets/controls",
            "_model_module_version": "1.5.0",
            "_model_name": "ProgressStyleModel",
            "_view_count": null,
            "_view_module": "@jupyter-widgets/base",
            "_view_module_version": "1.2.0",
            "_view_name": "StyleView",
            "bar_color": null,
            "description_width": ""
          }
        },
        "b533ff365bf14a82873b549140e4d31c": {
          "model_module": "@jupyter-widgets/base",
          "model_name": "LayoutModel",
          "model_module_version": "1.2.0",
          "state": {
            "_model_module": "@jupyter-widgets/base",
            "_model_module_version": "1.2.0",
            "_model_name": "LayoutModel",
            "_view_count": null,
            "_view_module": "@jupyter-widgets/base",
            "_view_module_version": "1.2.0",
            "_view_name": "LayoutView",
            "align_content": null,
            "align_items": null,
            "align_self": null,
            "border": null,
            "bottom": null,
            "display": null,
            "flex": null,
            "flex_flow": null,
            "grid_area": null,
            "grid_auto_columns": null,
            "grid_auto_flow": null,
            "grid_auto_rows": null,
            "grid_column": null,
            "grid_gap": null,
            "grid_row": null,
            "grid_template_areas": null,
            "grid_template_columns": null,
            "grid_template_rows": null,
            "height": null,
            "justify_content": null,
            "justify_items": null,
            "left": null,
            "margin": null,
            "max_height": null,
            "max_width": null,
            "min_height": null,
            "min_width": null,
            "object_fit": null,
            "object_position": null,
            "order": null,
            "overflow": null,
            "overflow_x": null,
            "overflow_y": null,
            "padding": null,
            "right": null,
            "top": null,
            "visibility": null,
            "width": null
          }
        },
        "0acd3de143a64e15b4bbb3ecaa30e7c5": {
          "model_module": "@jupyter-widgets/controls",
          "model_name": "DescriptionStyleModel",
          "model_module_version": "1.5.0",
          "state": {
            "_model_module": "@jupyter-widgets/controls",
            "_model_module_version": "1.5.0",
            "_model_name": "DescriptionStyleModel",
            "_view_count": null,
            "_view_module": "@jupyter-widgets/base",
            "_view_module_version": "1.2.0",
            "_view_name": "StyleView",
            "description_width": ""
          }
        }
      }
    }
  },
  "cells": [
    {
      "cell_type": "markdown",
      "metadata": {
        "id": "view-in-github",
        "colab_type": "text"
      },
      "source": [
        "<a href=\"https://colab.research.google.com/github/sainijagjit/CS6910-A2/blob/main/Assignment_2_iNaturalist.ipynb\" target=\"_parent\"><img src=\"https://colab.research.google.com/assets/colab-badge.svg\" alt=\"Open In Colab\"/></a>"
      ]
    },
    {
      "cell_type": "code",
      "source": [
        "! pip install pytorch-lightning --quiet\n",
        "# install weights and biases\n",
        "!pip install wandb --quiet"
      ],
      "metadata": {
        "id": "cdt-S_s5Eycy",
        "colab": {
          "base_uri": "https://localhost:8080/"
        },
        "outputId": "8d3d21b0-74ff-4179-ae60-6aa6d63e0627"
      },
      "execution_count": 1,
      "outputs": [
        {
          "output_type": "stream",
          "name": "stdout",
          "text": [
            "\u001b[2K     \u001b[90m━━━━━━━━━━━━━━━━━━━━━━━━━━━━━━━━━━━━━━━━\u001b[0m \u001b[32m801.6/801.6 kB\u001b[0m \u001b[31m5.5 MB/s\u001b[0m eta \u001b[36m0:00:00\u001b[0m\n",
            "\u001b[2K     \u001b[90m━━━━━━━━━━━━━━━━━━━━━━━━━━━━━━━━━━━━━━━━\u001b[0m \u001b[32m841.5/841.5 kB\u001b[0m \u001b[31m11.1 MB/s\u001b[0m eta \u001b[36m0:00:00\u001b[0m\n",
            "\u001b[2K     \u001b[90m━━━━━━━━━━━━━━━━━━━━━━━━━━━━━━━━━━━━━━━━\u001b[0m \u001b[32m23.7/23.7 MB\u001b[0m \u001b[31m31.8 MB/s\u001b[0m eta \u001b[36m0:00:00\u001b[0m\n",
            "\u001b[2K     \u001b[90m━━━━━━━━━━━━━━━━━━━━━━━━━━━━━━━━━━━━━━━━\u001b[0m \u001b[32m823.6/823.6 kB\u001b[0m \u001b[31m31.1 MB/s\u001b[0m eta \u001b[36m0:00:00\u001b[0m\n",
            "\u001b[2K     \u001b[90m━━━━━━━━━━━━━━━━━━━━━━━━━━━━━━━━━━━━━━━━\u001b[0m \u001b[32m14.1/14.1 MB\u001b[0m \u001b[31m51.5 MB/s\u001b[0m eta \u001b[36m0:00:00\u001b[0m\n",
            "\u001b[2K     \u001b[90m━━━━━━━━━━━━━━━━━━━━━━━━━━━━━━━━━━━━━━━━\u001b[0m \u001b[32m731.7/731.7 MB\u001b[0m \u001b[31m1.1 MB/s\u001b[0m eta \u001b[36m0:00:00\u001b[0m\n",
            "\u001b[2K     \u001b[90m━━━━━━━━━━━━━━━━━━━━━━━━━━━━━━━━━━━━━━━━\u001b[0m \u001b[32m410.6/410.6 MB\u001b[0m \u001b[31m2.9 MB/s\u001b[0m eta \u001b[36m0:00:00\u001b[0m\n",
            "\u001b[2K     \u001b[90m━━━━━━━━━━━━━━━━━━━━━━━━━━━━━━━━━━━━━━━━\u001b[0m \u001b[32m121.6/121.6 MB\u001b[0m \u001b[31m8.4 MB/s\u001b[0m eta \u001b[36m0:00:00\u001b[0m\n",
            "\u001b[2K     \u001b[90m━━━━━━━━━━━━━━━━━━━━━━━━━━━━━━━━━━━━━━━━\u001b[0m \u001b[32m56.5/56.5 MB\u001b[0m \u001b[31m13.5 MB/s\u001b[0m eta \u001b[36m0:00:00\u001b[0m\n",
            "\u001b[2K     \u001b[90m━━━━━━━━━━━━━━━━━━━━━━━━━━━━━━━━━━━━━━━━\u001b[0m \u001b[32m124.2/124.2 MB\u001b[0m \u001b[31m8.8 MB/s\u001b[0m eta \u001b[36m0:00:00\u001b[0m\n",
            "\u001b[2K     \u001b[90m━━━━━━━━━━━━━━━━━━━━━━━━━━━━━━━━━━━━━━━━\u001b[0m \u001b[32m196.0/196.0 MB\u001b[0m \u001b[31m5.8 MB/s\u001b[0m eta \u001b[36m0:00:00\u001b[0m\n",
            "\u001b[2K     \u001b[90m━━━━━━━━━━━━━━━━━━━━━━━━━━━━━━━━━━━━━━━━\u001b[0m \u001b[32m166.0/166.0 MB\u001b[0m \u001b[31m6.1 MB/s\u001b[0m eta \u001b[36m0:00:00\u001b[0m\n",
            "\u001b[2K     \u001b[90m━━━━━━━━━━━━━━━━━━━━━━━━━━━━━━━━━━━━━━━━\u001b[0m \u001b[32m99.1/99.1 kB\u001b[0m \u001b[31m10.9 MB/s\u001b[0m eta \u001b[36m0:00:00\u001b[0m\n",
            "\u001b[2K     \u001b[90m━━━━━━━━━━━━━━━━━━━━━━━━━━━━━━━━━━━━━━━━\u001b[0m \u001b[32m21.1/21.1 MB\u001b[0m \u001b[31m63.3 MB/s\u001b[0m eta \u001b[36m0:00:00\u001b[0m\n",
            "\u001b[2K     \u001b[90m━━━━━━━━━━━━━━━━━━━━━━━━━━━━━━━━━━━━━━━━\u001b[0m \u001b[32m2.2/2.2 MB\u001b[0m \u001b[31m9.0 MB/s\u001b[0m eta \u001b[36m0:00:00\u001b[0m\n",
            "\u001b[2K     \u001b[90m━━━━━━━━━━━━━━━━━━━━━━━━━━━━━━━━━━━━━━━━\u001b[0m \u001b[32m207.3/207.3 kB\u001b[0m \u001b[31m8.6 MB/s\u001b[0m eta \u001b[36m0:00:00\u001b[0m\n",
            "\u001b[2K     \u001b[90m━━━━━━━━━━━━━━━━━━━━━━━━━━━━━━━━━━━━━━━━\u001b[0m \u001b[32m264.9/264.9 kB\u001b[0m \u001b[31m9.0 MB/s\u001b[0m eta \u001b[36m0:00:00\u001b[0m\n",
            "\u001b[2K     \u001b[90m━━━━━━━━━━━━━━━━━━━━━━━━━━━━━━━━━━━━━━━━\u001b[0m \u001b[32m62.7/62.7 kB\u001b[0m \u001b[31m6.8 MB/s\u001b[0m eta \u001b[36m0:00:00\u001b[0m\n",
            "\u001b[?25h"
          ]
        }
      ]
    },
    {
      "cell_type": "code",
      "execution_count": 2,
      "metadata": {
        "id": "o4lwR6__7xmZ"
      },
      "outputs": [],
      "source": [
        "import torch\n",
        "import torch.nn as nn\n",
        "import torch.nn.functional as F\n",
        "import pytorch_lightning as L\n",
        "from torch.utils.data import DataLoader, random_split, SubsetRandomSampler, Subset\n",
        "from sklearn.model_selection import train_test_split\n",
        "from torchvision.datasets import ImageFolder\n",
        "import torchvision.transforms as transforms\n",
        "import os\n",
        "import matplotlib.pyplot as plt\n",
        "import numpy as np\n",
        "import torchvision\n",
        "from torchmetrics import Accuracy\n",
        "from pytorch_lightning.callbacks import EarlyStopping,Callback,ModelCheckpoint\n",
        "from pytorch_lightning.loggers import WandbLogger\n",
        "import wandb\n",
        "from google.colab import userdata"
      ]
    },
    {
      "cell_type": "code",
      "source": [
        "from google.colab import drive\n",
        "drive.mount('/content/drive')\n",
        "# %cd /content/drive/MyDrive/Deep Learning/inaturalist_12K/\n"
      ],
      "metadata": {
        "id": "AxxmRqWHZext",
        "colab": {
          "base_uri": "https://localhost:8080/"
        },
        "outputId": "926f8859-a0e3-43e1-9fc0-50c2f4e29ba6"
      },
      "execution_count": 3,
      "outputs": [
        {
          "output_type": "stream",
          "name": "stdout",
          "text": [
            "Mounted at /content/drive\n"
          ]
        }
      ]
    },
    {
      "cell_type": "code",
      "source": [
        "zip_path = \"/content/drive/MyDrive/Deep Learning/nature_12K.zip\"\n",
        "!cp \"{zip_path}\" .\n",
        "!unzip -q nature_12K.zip\n",
        "!rm nature_12K.zip"
      ],
      "metadata": {
        "id": "WgqRtab3B00B"
      },
      "execution_count": 4,
      "outputs": []
    },
    {
      "cell_type": "code",
      "source": [
        "%cd inaturalist_12K/"
      ],
      "metadata": {
        "colab": {
          "base_uri": "https://localhost:8080/"
        },
        "id": "Zqrt916Ntqj9",
        "outputId": "df5c8006-4e9b-4bfe-c668-b030c6b59c55"
      },
      "execution_count": 5,
      "outputs": [
        {
          "output_type": "stream",
          "name": "stdout",
          "text": [
            "/content/inaturalist_12K\n"
          ]
        }
      ]
    },
    {
      "cell_type": "code",
      "source": [
        "wandb.login(key=userdata.get('wandb_key'))\n",
        "wandb_project=\"CS6910 - Assignment 2\"\n",
        "wandb_entity=\"ns24z060\""
      ],
      "metadata": {
        "id": "XIpWnHvuszqn",
        "colab": {
          "base_uri": "https://localhost:8080/"
        },
        "outputId": "026c0b95-c011-43a5-9dd1-a12897620426"
      },
      "execution_count": 6,
      "outputs": [
        {
          "output_type": "stream",
          "name": "stderr",
          "text": [
            "\u001b[34m\u001b[1mwandb\u001b[0m: W&B API key is configured. Use \u001b[1m`wandb login --relogin`\u001b[0m to force relogin\n",
            "\u001b[34m\u001b[1mwandb\u001b[0m: \u001b[33mWARNING\u001b[0m If you're specifying your api key in code, ensure this code is not shared publicly.\n",
            "\u001b[34m\u001b[1mwandb\u001b[0m: \u001b[33mWARNING\u001b[0m Consider setting the WANDB_API_KEY environment variable, or running `wandb login` from the command line.\n",
            "\u001b[34m\u001b[1mwandb\u001b[0m: Appending key for api.wandb.ai to your netrc file: /root/.netrc\n"
          ]
        }
      ]
    },
    {
      "cell_type": "markdown",
      "source": [
        "**Loading & Splitting Dataset**"
      ],
      "metadata": {
        "id": "QcWdSSs8nN6J"
      }
    },
    {
      "cell_type": "code",
      "source": [
        "class DataModule(L.LightningDataModule):\n",
        "    def __init__(self, batch_size, augment_data= True ,data_dir = './'):\n",
        "        super().__init__()\n",
        "        self.data_dir = data_dir\n",
        "        self.batch_size = batch_size\n",
        "        self.augment_data = augment_data\n",
        "\n",
        "\n",
        "        self.augmentation = transforms.Compose([\n",
        "              transforms.RandomResizedCrop(size=256, scale=(0.8, 1.0)),\n",
        "              transforms.RandomRotation(degrees=15),\n",
        "              transforms.RandomHorizontalFlip(),\n",
        "              transforms.CenterCrop(size=224),\n",
        "              transforms.ToTensor(),\n",
        "              transforms.Normalize((0.5, 0.5, 0.5), (0.5, 0.5, 0.5))\n",
        "        ])\n",
        "\n",
        "        self.transform = transforms.Compose([\n",
        "              transforms.Resize(size=256),\n",
        "              transforms.CenterCrop(size=224),\n",
        "              transforms.ToTensor(),\n",
        "              transforms.Normalize((0.5, 0.5, 0.5), (0.5, 0.5, 0.5))\n",
        "        ])\n",
        "\n",
        "\n",
        "\n",
        "    def prepare_data(self):\n",
        "        self.train_dataset = ImageFolder(root='train')\n",
        "        self.test_dataset = ImageFolder(root='val')\n",
        "        print(f'No of classes {self.train_dataset.classes}')\n",
        "        print(f'Train Samples {len(self.train_dataset)}')\n",
        "        print(f'Test Samples {len(self.test_dataset)}')\n",
        "\n",
        "\n",
        "    def setup(self, stage=None):\n",
        "        self.test_dataset.transform = self.transform\n",
        "        labels = self.train_dataset.targets\n",
        "        train_indices, val_indices = train_test_split(\n",
        "            range(len(self.train_dataset)),\n",
        "            test_size=0.2,\n",
        "            random_state=42,\n",
        "            stratify=labels\n",
        "        )\n",
        "\n",
        "        # Checking representation of each class in val set\n",
        "        class_names = self.train_dataset.classes\n",
        "        class_counts = {class_name: 0 for class_name in class_names}\n",
        "        for val_indice in val_indices:\n",
        "            _, class_idx = self.train_dataset[val_indice]\n",
        "            class_name = class_names[class_idx]\n",
        "            class_counts[class_name] += 1\n",
        "        # print('Validation Datased Class Distribution')\n",
        "        # for class_name, count in class_counts.items():\n",
        "        #     print(f\"Class: {class_name}, No. of samples: {count}\")\n",
        "        self.val_dataset = Subset(self.train_dataset, val_indices)\n",
        "        self.train_dataset = Subset(self.train_dataset, train_indices)\n",
        "        # num_classes = len(class_names)\n",
        "        # input_dims = self.test_dataset[0][0].shape\n",
        "        # print(f'Input image shape ({input_dims[0]},{input_dims[1]},{input_dims[2]})')\n",
        "        # print('-------------')\n",
        "        # print('-------------')\n",
        "        # print(f'No of classes {num_classes}')\n",
        "        # print(f'Train Samples {len(self.train_dataset)}')\n",
        "        # print(f'Val Samples {len(self.val_dataset)}')\n",
        "        # print(f'Test Samples {len(self.test_dataset)}')\n",
        "\n",
        "        # def imshow(img):\n",
        "        #     img = img / 2 + 0.5\n",
        "        #     npimg = img.numpy()\n",
        "        #     plt.imshow(np.transpose(npimg, (1, 2, 0)))\n",
        "        #     plt.show()\n",
        "\n",
        "        # dataiter = iter(self.train_dataloader)\n",
        "        # images, labels = next(dataiter)\n",
        "        # imshow(torchvision.utils.make_grid(images))\n",
        "\n",
        "        if self.augment_data:\n",
        "          self.train_dataset.dataset.transform = self.augmentation\n",
        "        self.val_dataset.dataset.transform = self.transform\n",
        "\n",
        "    def train_dataloader(self):\n",
        "        return DataLoader(self.train_dataset, batch_size=self.batch_size, shuffle=True, num_workers=4)\n",
        "\n",
        "\n",
        "    def val_dataloader(self):\n",
        "        return DataLoader(self.val_dataset, batch_size=self.batch_size, num_workers=4)\n",
        "\n",
        "\n",
        "    def test_dataloader(self):\n",
        "        return DataLoader(self.test_dataset, batch_size=self.batch_size, num_workers=4)\n",
        "\n"
      ],
      "metadata": {
        "id": "0b0lyT0QZnGg"
      },
      "execution_count": 221,
      "outputs": []
    },
    {
      "cell_type": "code",
      "source": [
        "class Net(nn.Module):\n",
        "  def __init__(self,\n",
        "                cnn_activation_function,\n",
        "                fcc_activation_function,\n",
        "                num_filters,\n",
        "                filter_size,\n",
        "                dense_neurons,\n",
        "                batch_size,\n",
        "                stride=2\n",
        "                ):\n",
        "      super().__init__()\n",
        "      self.batch_size=batch_size\n",
        "      cnn_layers = []\n",
        "      for i in range(5):\n",
        "        in_channels = 3 if i==0 else num_filters\n",
        "        cnn_layers.extend([nn.Conv2d(in_channels, num_filters, kernel_size=filter_size),\n",
        "                      getattr(nn, cnn_activation_function)(inplace=True),\n",
        "                      nn.MaxPool2d(kernel_size=filter_size,stride=stride),\n",
        "                      ])\n",
        "      self.cnn_net = nn.Sequential(*cnn_layers)\n",
        "      n_sizes = self._get_conv_output((3,224,224))\n",
        "      dnn_layers = [\n",
        "          nn.Flatten(),\n",
        "          nn.Linear(n_sizes, dense_neurons),\n",
        "          getattr(nn, fcc_activation_function)(inplace=True),\n",
        "          nn.Dropout(p=0.5),\n",
        "          nn.Linear(dense_neurons, 10)]\n",
        "      self.dnn_net = nn.Sequential(*dnn_layers)\n",
        "\n",
        "  def _get_conv_output(self, shape):\n",
        "        input = torch.autograd.Variable(torch.rand(self.batch_size, *shape))\n",
        "        output_feat = self._forward_features(input)\n",
        "        n_size = output_feat.data.view(self.batch_size, -1).size(1)\n",
        "        return n_size\n",
        "\n",
        "  def _forward_features(self, x):\n",
        "        return self.cnn_net(x)\n",
        "\n",
        "  def forward(self, x):\n",
        "        x =  self.cnn_net(x)\n",
        "        x =  self.dnn_net(x)\n",
        "        return x"
      ],
      "metadata": {
        "id": "77kf0t_Di_HY"
      },
      "execution_count": 222,
      "outputs": []
    },
    {
      "cell_type": "code",
      "source": [
        "class MyCnnModel(L.LightningModule):\n",
        "    def __init__(self,\n",
        "                 cnn_activation_function = 'ReLU',\n",
        "                 fcc_activation_function = 'ReLU',\n",
        "                 loss_function='cross_entropy',\n",
        "                 num_filters=32,\n",
        "                 filter_size=3,\n",
        "                 dense_neurons=1024,\n",
        "                 learning_rate=0.01,\n",
        "                 optimizer='Adam',\n",
        "                 batch_size=64):\n",
        "        super().__init__()\n",
        "        self.save_hyperparameters()\n",
        "        self.model = Net(cnn_activation_function,fcc_activation_function,num_filters,filter_size,dense_neurons,batch_size)\n",
        "        self.accuracy = Accuracy(task=\"multiclass\", num_classes=10)\n",
        "        self.loss_function = getattr(F, loss_function)\n",
        "        self.learning_rate = learning_rate\n",
        "        self.optimizer = optimizer\n",
        "\n",
        "    def forward(self, x):\n",
        "        return self.model(x)\n",
        "\n",
        "    def training_step(self, batch, batch_idx):\n",
        "      loss,acc = self._common_step(batch,batch_idx)\n",
        "      self.log('train_loss', loss, on_step=False, on_epoch=True, logger=True)\n",
        "      self.log('train_acc', acc, on_step=False, on_epoch=True, logger=True)\n",
        "      return loss\n",
        "\n",
        "    def validation_step(self, batch, batch_idx):\n",
        "      loss,acc =  self._common_step(batch,batch_idx)\n",
        "      self.log('val_loss', loss, prog_bar=True, on_step=False, on_epoch=True, logger=True)\n",
        "      self.log('val_acc', acc, prog_bar=True, on_step=False, on_epoch=True, logger=True)\n",
        "      return loss\n",
        "\n",
        "\n",
        "    def test_step(self,batch,batch_idx):\n",
        "      loss,acc =  self._common_step(batch,batch_idx)\n",
        "      self.log('test_loss', loss, prog_bar=True, on_step=False, on_epoch=True, logger=True)\n",
        "      self.log('test_acc', acc, prog_bar=True, on_step=False, on_epoch=True, logger=True)\n",
        "      return loss\n",
        "\n",
        "    def _common_step(self, batch, batch_idx):\n",
        "      inputs, target = batch\n",
        "      output = self.forward(inputs)\n",
        "      loss = self.loss_function(output, target)\n",
        "      acc = self.accuracy(output, target)\n",
        "      return loss,acc\n",
        "\n",
        "    def configure_optimizers(self):\n",
        "      return getattr(torch.optim,self.optimizer)(self.parameters(), lr=self.learning_rate)"
      ],
      "metadata": {
        "id": "ZfkUkWRAha2s"
      },
      "execution_count": 223,
      "outputs": []
    },
    {
      "cell_type": "code",
      "source": [
        "class PrintCallback(Callback):\n",
        "    def on_train_start(self, trainer, pl_module):\n",
        "        print(\"Training is started!\")\n",
        "    def on_train_end(self, trainer, pl_module):\n",
        "        print(\"Training is done.\")\n",
        "\n",
        "batch_size=64\n",
        "model = MyCnnModel(batch_size=batch_size)\n",
        "checkpoint_callback = ModelCheckpoint(monitor=\"val_loss\", mode='max')\n",
        "wandb_logger = WandbLogger(project=wandb_project, job_type='train', log_model='all')\n",
        "early_stop_callback = EarlyStopping(monitor=\"val_loss\")\n",
        "\n",
        "trainer = L.Trainer(\n",
        "    max_epochs=1,\n",
        "    limit_train_batches=0.01,\n",
        "    limit_val_batches=0.03125,\n",
        "    check_val_every_n_epoch=1,\n",
        "    log_every_n_steps=1,\n",
        "    # logger=wandb_logger,\n",
        "    # fast_dev_run=1,\n",
        "    callbacks=[PrintCallback(),checkpoint_callback,early_stop_callback])\n",
        "dm = DataModule(batch_size=batch_size)\n",
        "trainer.fit(model, dm)\n",
        "# trainer.test(model, dm, ckpt_path='best')\n",
        "wandb.finish()"
      ],
      "metadata": {
        "colab": {
          "base_uri": "https://localhost:8080/",
          "height": 390,
          "referenced_widgets": [
            "0eafcde8ec1d4bdca67c99b0a8d46102",
            "e7e7d84478e940bb81678652556e3c47",
            "b1f1b22dbe4345159294f140fbe3d4ec",
            "1772537e641d4a768d6e64d90ccbc2e9",
            "dd1eb96f443e49d997ccdb9b0b11d3b0",
            "ef3cb3a260e94c209472c6ee9adc9fbf",
            "eb0c2d6fe2f54e2ca499cb3d22960781",
            "e429cf02f0534909ba84de3cc6ca87e9",
            "5ab61d0c5f7c4127bd7499f0c3d88e47",
            "c33cf4d7951f452f8c5afb5e31f80a6e",
            "4df4d850de4a4334810e231b6555945b",
            "90be17a7a3e54683ae9184bee2d67dc7",
            "67637265ca874567a7541de705fb7417",
            "8914b010f30d436492f13460398cc40b",
            "c3a0ae913d754c85a4596997292a993d",
            "cd9b7f6404f24adfaecd3f2205aececa",
            "2c5d67bcb0c14e1ea756c9dd3e15832a",
            "8be877cce3894a5db9647f50f27e9ef3",
            "06601b4b676e4da1a216fd23e29afaec",
            "17909d62f8b1490dace4b8c4aa5f69b8",
            "b533ff365bf14a82873b549140e4d31c",
            "0acd3de143a64e15b4bbb3ecaa30e7c5"
          ]
        },
        "id": "Vk9ykXP5hdLW",
        "outputId": "07018ad1-b7b9-4980-c902-479279d63dce"
      },
      "execution_count": 217,
      "outputs": [
        {
          "output_type": "stream",
          "name": "stderr",
          "text": [
            "INFO:pytorch_lightning.utilities.rank_zero:GPU available: False, used: False\n",
            "INFO:pytorch_lightning.utilities.rank_zero:TPU available: False, using: 0 TPU cores\n",
            "INFO:pytorch_lightning.utilities.rank_zero:IPU available: False, using: 0 IPUs\n",
            "INFO:pytorch_lightning.utilities.rank_zero:HPU available: False, using: 0 HPUs\n",
            "INFO:pytorch_lightning.callbacks.model_summary:\n",
            "  | Name     | Type               | Params\n",
            "------------------------------------------------\n",
            "0 | model    | Net                | 573 K \n",
            "1 | accuracy | MulticlassAccuracy | 0     \n",
            "------------------------------------------------\n",
            "573 K     Trainable params\n",
            "0         Non-trainable params\n",
            "573 K     Total params\n",
            "2.294     Total estimated model params size (MB)\n"
          ]
        },
        {
          "output_type": "display_data",
          "data": {
            "text/plain": [
              "Sanity Checking: |          | 0/? [00:00<?, ?it/s]"
            ],
            "application/vnd.jupyter.widget-view+json": {
              "version_major": 2,
              "version_minor": 0,
              "model_id": "0eafcde8ec1d4bdca67c99b0a8d46102"
            }
          },
          "metadata": {}
        },
        {
          "output_type": "stream",
          "name": "stderr",
          "text": [
            "/usr/local/lib/python3.10/dist-packages/torch/utils/data/dataloader.py:558: UserWarning: This DataLoader will create 4 worker processes in total. Our suggested max number of worker in current system is 2, which is smaller than what this DataLoader is going to create. Please be aware that excessive worker creation might get DataLoader running slow or even freeze, lower the worker number to avoid potential slowness/freeze if necessary.\n",
            "  warnings.warn(_create_warning_msg(\n"
          ]
        },
        {
          "output_type": "stream",
          "name": "stdout",
          "text": [
            "Training is started!\n"
          ]
        },
        {
          "output_type": "display_data",
          "data": {
            "text/plain": [
              "Training: |          | 0/? [00:00<?, ?it/s]"
            ],
            "application/vnd.jupyter.widget-view+json": {
              "version_major": 2,
              "version_minor": 0,
              "model_id": "90be17a7a3e54683ae9184bee2d67dc7"
            }
          },
          "metadata": {}
        },
        {
          "output_type": "stream",
          "name": "stderr",
          "text": [
            "/usr/local/lib/python3.10/dist-packages/pytorch_lightning/trainer/call.py:54: Detected KeyboardInterrupt, attempting graceful shutdown...\n"
          ]
        }
      ]
    }
  ]
}